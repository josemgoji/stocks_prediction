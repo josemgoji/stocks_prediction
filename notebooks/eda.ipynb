{
 "cells": [
  {
   "cell_type": "code",
   "execution_count": 1,
   "id": "46d96520",
   "metadata": {},
   "outputs": [],
   "source": [
    "import pandas as pd\n",
    "import matplotlib.pyplot as plt\n",
    "import plotly.graph_objects as go\n"
   ]
  },
  {
   "cell_type": "markdown",
   "id": "e5923fc4",
   "metadata": {},
   "source": [
    "# Cargar los datos"
   ]
  },
  {
   "cell_type": "code",
   "execution_count": 2,
   "id": "64d6557b",
   "metadata": {},
   "outputs": [
    {
     "name": "stdout",
     "output_type": "stream",
     "text": [
      "<class 'pandas.core.frame.DataFrame'>\n",
      "DatetimeIndex: 21 entries, 2025-09-18 00:00:00+00:00 to 2025-10-16 00:00:00+00:00\n",
      "Data columns (total 15 columns):\n",
      " #   Column                     Non-Null Count  Dtype  \n",
      "---  ------                     --------------  -----  \n",
      " 0   Close                      21 non-null     float64\n",
      " 1   High                       21 non-null     float64\n",
      " 2   Low                        21 non-null     float64\n",
      " 3   Open                       21 non-null     float64\n",
      " 4   Volume                     21 non-null     int64  \n",
      " 5   log_return                 21 non-null     float64\n",
      " 6   treasury_yield_10y         21 non-null     float64\n",
      " 7   fed_funds_rate             21 non-null     float64\n",
      " 8   inflation_expectation_10y  21 non-null     float64\n",
      " 9   dollar_index               21 non-null     float64\n",
      " 10  oil_price_wti              21 non-null     float64\n",
      " 11  sp500_index                21 non-null     float64\n",
      " 12  vix_volatility             21 non-null     float64\n",
      " 13  yield_spread_10y_2y        21 non-null     float64\n",
      " 14  high_yield_spread          21 non-null     float64\n",
      "dtypes: float64(14), int64(1)\n",
      "memory usage: 2.6 KB\n"
     ]
    }
   ],
   "source": [
    "## carga\n",
    "PARQUET_PATH = \"../data/raw/nvda.parquet\"\n",
    "\n",
    "## Cargar los datos\n",
    "df = pd.read_parquet(PARQUET_PATH)\n",
    "\n",
    "df.info()"
   ]
  },
  {
   "cell_type": "code",
   "execution_count": 3,
   "id": "7d61490e",
   "metadata": {},
   "outputs": [
    {
     "data": {
      "application/vnd.plotly.v1+json": {
       "config": {
        "plotlyServerURL": "https://plot.ly"
       },
       "data": [
        {
         "line": {
          "width": 2
         },
         "mode": "lines",
         "name": "Close Price",
         "type": "scatter",
         "x": [
          "2025-09-18T00:00:00+00:00",
          "2025-09-19T00:00:00+00:00",
          "2025-09-22T00:00:00+00:00",
          "2025-09-23T00:00:00+00:00",
          "2025-09-24T00:00:00+00:00",
          "2025-09-25T00:00:00+00:00",
          "2025-09-26T00:00:00+00:00",
          "2025-09-29T00:00:00+00:00",
          "2025-09-30T00:00:00+00:00",
          "2025-10-01T00:00:00+00:00",
          "2025-10-02T00:00:00+00:00",
          "2025-10-03T00:00:00+00:00",
          "2025-10-06T00:00:00+00:00",
          "2025-10-07T00:00:00+00:00",
          "2025-10-08T00:00:00+00:00",
          "2025-10-09T00:00:00+00:00",
          "2025-10-10T00:00:00+00:00",
          "2025-10-13T00:00:00+00:00",
          "2025-10-14T00:00:00+00:00",
          "2025-10-15T00:00:00+00:00",
          "2025-10-16T00:00:00+00:00"
         ],
         "y": {
          "bdata": "AAAAIK4HZkAAAACgcBVmQAAAACCF82ZAAAAAgMJNZkAAAABACh9mQAAAAIAUNmZAAAAAgBRGZkAAAABAM7tmQAAAAGCPUmdAAAAAIK5nZ0AAAADgepxnQAAAAADXc2dAAAAAoEcxZ0AAAACgRyFnQAAAACCFo2dAAAAAgD0SaEAAAADAHuVmQAAAAIA9imdAAAAAwPWAZkAAAABgj3pmQAAAAIDruWZA",
          "dtype": "f8"
         }
        }
       ],
       "layout": {
        "height": 500,
        "hovermode": "x unified",
        "template": {
         "data": {
          "bar": [
           {
            "error_x": {
             "color": "#2a3f5f"
            },
            "error_y": {
             "color": "#2a3f5f"
            },
            "marker": {
             "line": {
              "color": "white",
              "width": 0.5
             },
             "pattern": {
              "fillmode": "overlay",
              "size": 10,
              "solidity": 0.2
             }
            },
            "type": "bar"
           }
          ],
          "barpolar": [
           {
            "marker": {
             "line": {
              "color": "white",
              "width": 0.5
             },
             "pattern": {
              "fillmode": "overlay",
              "size": 10,
              "solidity": 0.2
             }
            },
            "type": "barpolar"
           }
          ],
          "carpet": [
           {
            "aaxis": {
             "endlinecolor": "#2a3f5f",
             "gridcolor": "#C8D4E3",
             "linecolor": "#C8D4E3",
             "minorgridcolor": "#C8D4E3",
             "startlinecolor": "#2a3f5f"
            },
            "baxis": {
             "endlinecolor": "#2a3f5f",
             "gridcolor": "#C8D4E3",
             "linecolor": "#C8D4E3",
             "minorgridcolor": "#C8D4E3",
             "startlinecolor": "#2a3f5f"
            },
            "type": "carpet"
           }
          ],
          "choropleth": [
           {
            "colorbar": {
             "outlinewidth": 0,
             "ticks": ""
            },
            "type": "choropleth"
           }
          ],
          "contour": [
           {
            "colorbar": {
             "outlinewidth": 0,
             "ticks": ""
            },
            "colorscale": [
             [
              0,
              "#0d0887"
             ],
             [
              0.1111111111111111,
              "#46039f"
             ],
             [
              0.2222222222222222,
              "#7201a8"
             ],
             [
              0.3333333333333333,
              "#9c179e"
             ],
             [
              0.4444444444444444,
              "#bd3786"
             ],
             [
              0.5555555555555556,
              "#d8576b"
             ],
             [
              0.6666666666666666,
              "#ed7953"
             ],
             [
              0.7777777777777778,
              "#fb9f3a"
             ],
             [
              0.8888888888888888,
              "#fdca26"
             ],
             [
              1,
              "#f0f921"
             ]
            ],
            "type": "contour"
           }
          ],
          "contourcarpet": [
           {
            "colorbar": {
             "outlinewidth": 0,
             "ticks": ""
            },
            "type": "contourcarpet"
           }
          ],
          "heatmap": [
           {
            "colorbar": {
             "outlinewidth": 0,
             "ticks": ""
            },
            "colorscale": [
             [
              0,
              "#0d0887"
             ],
             [
              0.1111111111111111,
              "#46039f"
             ],
             [
              0.2222222222222222,
              "#7201a8"
             ],
             [
              0.3333333333333333,
              "#9c179e"
             ],
             [
              0.4444444444444444,
              "#bd3786"
             ],
             [
              0.5555555555555556,
              "#d8576b"
             ],
             [
              0.6666666666666666,
              "#ed7953"
             ],
             [
              0.7777777777777778,
              "#fb9f3a"
             ],
             [
              0.8888888888888888,
              "#fdca26"
             ],
             [
              1,
              "#f0f921"
             ]
            ],
            "type": "heatmap"
           }
          ],
          "histogram": [
           {
            "marker": {
             "pattern": {
              "fillmode": "overlay",
              "size": 10,
              "solidity": 0.2
             }
            },
            "type": "histogram"
           }
          ],
          "histogram2d": [
           {
            "colorbar": {
             "outlinewidth": 0,
             "ticks": ""
            },
            "colorscale": [
             [
              0,
              "#0d0887"
             ],
             [
              0.1111111111111111,
              "#46039f"
             ],
             [
              0.2222222222222222,
              "#7201a8"
             ],
             [
              0.3333333333333333,
              "#9c179e"
             ],
             [
              0.4444444444444444,
              "#bd3786"
             ],
             [
              0.5555555555555556,
              "#d8576b"
             ],
             [
              0.6666666666666666,
              "#ed7953"
             ],
             [
              0.7777777777777778,
              "#fb9f3a"
             ],
             [
              0.8888888888888888,
              "#fdca26"
             ],
             [
              1,
              "#f0f921"
             ]
            ],
            "type": "histogram2d"
           }
          ],
          "histogram2dcontour": [
           {
            "colorbar": {
             "outlinewidth": 0,
             "ticks": ""
            },
            "colorscale": [
             [
              0,
              "#0d0887"
             ],
             [
              0.1111111111111111,
              "#46039f"
             ],
             [
              0.2222222222222222,
              "#7201a8"
             ],
             [
              0.3333333333333333,
              "#9c179e"
             ],
             [
              0.4444444444444444,
              "#bd3786"
             ],
             [
              0.5555555555555556,
              "#d8576b"
             ],
             [
              0.6666666666666666,
              "#ed7953"
             ],
             [
              0.7777777777777778,
              "#fb9f3a"
             ],
             [
              0.8888888888888888,
              "#fdca26"
             ],
             [
              1,
              "#f0f921"
             ]
            ],
            "type": "histogram2dcontour"
           }
          ],
          "mesh3d": [
           {
            "colorbar": {
             "outlinewidth": 0,
             "ticks": ""
            },
            "type": "mesh3d"
           }
          ],
          "parcoords": [
           {
            "line": {
             "colorbar": {
              "outlinewidth": 0,
              "ticks": ""
             }
            },
            "type": "parcoords"
           }
          ],
          "pie": [
           {
            "automargin": true,
            "type": "pie"
           }
          ],
          "scatter": [
           {
            "fillpattern": {
             "fillmode": "overlay",
             "size": 10,
             "solidity": 0.2
            },
            "type": "scatter"
           }
          ],
          "scatter3d": [
           {
            "line": {
             "colorbar": {
              "outlinewidth": 0,
              "ticks": ""
             }
            },
            "marker": {
             "colorbar": {
              "outlinewidth": 0,
              "ticks": ""
             }
            },
            "type": "scatter3d"
           }
          ],
          "scattercarpet": [
           {
            "marker": {
             "colorbar": {
              "outlinewidth": 0,
              "ticks": ""
             }
            },
            "type": "scattercarpet"
           }
          ],
          "scattergeo": [
           {
            "marker": {
             "colorbar": {
              "outlinewidth": 0,
              "ticks": ""
             }
            },
            "type": "scattergeo"
           }
          ],
          "scattergl": [
           {
            "marker": {
             "colorbar": {
              "outlinewidth": 0,
              "ticks": ""
             }
            },
            "type": "scattergl"
           }
          ],
          "scattermap": [
           {
            "marker": {
             "colorbar": {
              "outlinewidth": 0,
              "ticks": ""
             }
            },
            "type": "scattermap"
           }
          ],
          "scattermapbox": [
           {
            "marker": {
             "colorbar": {
              "outlinewidth": 0,
              "ticks": ""
             }
            },
            "type": "scattermapbox"
           }
          ],
          "scatterpolar": [
           {
            "marker": {
             "colorbar": {
              "outlinewidth": 0,
              "ticks": ""
             }
            },
            "type": "scatterpolar"
           }
          ],
          "scatterpolargl": [
           {
            "marker": {
             "colorbar": {
              "outlinewidth": 0,
              "ticks": ""
             }
            },
            "type": "scatterpolargl"
           }
          ],
          "scatterternary": [
           {
            "marker": {
             "colorbar": {
              "outlinewidth": 0,
              "ticks": ""
             }
            },
            "type": "scatterternary"
           }
          ],
          "surface": [
           {
            "colorbar": {
             "outlinewidth": 0,
             "ticks": ""
            },
            "colorscale": [
             [
              0,
              "#0d0887"
             ],
             [
              0.1111111111111111,
              "#46039f"
             ],
             [
              0.2222222222222222,
              "#7201a8"
             ],
             [
              0.3333333333333333,
              "#9c179e"
             ],
             [
              0.4444444444444444,
              "#bd3786"
             ],
             [
              0.5555555555555556,
              "#d8576b"
             ],
             [
              0.6666666666666666,
              "#ed7953"
             ],
             [
              0.7777777777777778,
              "#fb9f3a"
             ],
             [
              0.8888888888888888,
              "#fdca26"
             ],
             [
              1,
              "#f0f921"
             ]
            ],
            "type": "surface"
           }
          ],
          "table": [
           {
            "cells": {
             "fill": {
              "color": "#EBF0F8"
             },
             "line": {
              "color": "white"
             }
            },
            "header": {
             "fill": {
              "color": "#C8D4E3"
             },
             "line": {
              "color": "white"
             }
            },
            "type": "table"
           }
          ]
         },
         "layout": {
          "annotationdefaults": {
           "arrowcolor": "#2a3f5f",
           "arrowhead": 0,
           "arrowwidth": 1
          },
          "autotypenumbers": "strict",
          "coloraxis": {
           "colorbar": {
            "outlinewidth": 0,
            "ticks": ""
           }
          },
          "colorscale": {
           "diverging": [
            [
             0,
             "#8e0152"
            ],
            [
             0.1,
             "#c51b7d"
            ],
            [
             0.2,
             "#de77ae"
            ],
            [
             0.3,
             "#f1b6da"
            ],
            [
             0.4,
             "#fde0ef"
            ],
            [
             0.5,
             "#f7f7f7"
            ],
            [
             0.6,
             "#e6f5d0"
            ],
            [
             0.7,
             "#b8e186"
            ],
            [
             0.8,
             "#7fbc41"
            ],
            [
             0.9,
             "#4d9221"
            ],
            [
             1,
             "#276419"
            ]
           ],
           "sequential": [
            [
             0,
             "#0d0887"
            ],
            [
             0.1111111111111111,
             "#46039f"
            ],
            [
             0.2222222222222222,
             "#7201a8"
            ],
            [
             0.3333333333333333,
             "#9c179e"
            ],
            [
             0.4444444444444444,
             "#bd3786"
            ],
            [
             0.5555555555555556,
             "#d8576b"
            ],
            [
             0.6666666666666666,
             "#ed7953"
            ],
            [
             0.7777777777777778,
             "#fb9f3a"
            ],
            [
             0.8888888888888888,
             "#fdca26"
            ],
            [
             1,
             "#f0f921"
            ]
           ],
           "sequentialminus": [
            [
             0,
             "#0d0887"
            ],
            [
             0.1111111111111111,
             "#46039f"
            ],
            [
             0.2222222222222222,
             "#7201a8"
            ],
            [
             0.3333333333333333,
             "#9c179e"
            ],
            [
             0.4444444444444444,
             "#bd3786"
            ],
            [
             0.5555555555555556,
             "#d8576b"
            ],
            [
             0.6666666666666666,
             "#ed7953"
            ],
            [
             0.7777777777777778,
             "#fb9f3a"
            ],
            [
             0.8888888888888888,
             "#fdca26"
            ],
            [
             1,
             "#f0f921"
            ]
           ]
          },
          "colorway": [
           "#636efa",
           "#EF553B",
           "#00cc96",
           "#ab63fa",
           "#FFA15A",
           "#19d3f3",
           "#FF6692",
           "#B6E880",
           "#FF97FF",
           "#FECB52"
          ],
          "font": {
           "color": "#2a3f5f"
          },
          "geo": {
           "bgcolor": "white",
           "lakecolor": "white",
           "landcolor": "white",
           "showlakes": true,
           "showland": true,
           "subunitcolor": "#C8D4E3"
          },
          "hoverlabel": {
           "align": "left"
          },
          "hovermode": "closest",
          "mapbox": {
           "style": "light"
          },
          "paper_bgcolor": "white",
          "plot_bgcolor": "white",
          "polar": {
           "angularaxis": {
            "gridcolor": "#EBF0F8",
            "linecolor": "#EBF0F8",
            "ticks": ""
           },
           "bgcolor": "white",
           "radialaxis": {
            "gridcolor": "#EBF0F8",
            "linecolor": "#EBF0F8",
            "ticks": ""
           }
          },
          "scene": {
           "xaxis": {
            "backgroundcolor": "white",
            "gridcolor": "#DFE8F3",
            "gridwidth": 2,
            "linecolor": "#EBF0F8",
            "showbackground": true,
            "ticks": "",
            "zerolinecolor": "#EBF0F8"
           },
           "yaxis": {
            "backgroundcolor": "white",
            "gridcolor": "#DFE8F3",
            "gridwidth": 2,
            "linecolor": "#EBF0F8",
            "showbackground": true,
            "ticks": "",
            "zerolinecolor": "#EBF0F8"
           },
           "zaxis": {
            "backgroundcolor": "white",
            "gridcolor": "#DFE8F3",
            "gridwidth": 2,
            "linecolor": "#EBF0F8",
            "showbackground": true,
            "ticks": "",
            "zerolinecolor": "#EBF0F8"
           }
          },
          "shapedefaults": {
           "line": {
            "color": "#2a3f5f"
           }
          },
          "ternary": {
           "aaxis": {
            "gridcolor": "#DFE8F3",
            "linecolor": "#A2B1C6",
            "ticks": ""
           },
           "baxis": {
            "gridcolor": "#DFE8F3",
            "linecolor": "#A2B1C6",
            "ticks": ""
           },
           "bgcolor": "white",
           "caxis": {
            "gridcolor": "#DFE8F3",
            "linecolor": "#A2B1C6",
            "ticks": ""
           }
          },
          "title": {
           "x": 0.05
          },
          "xaxis": {
           "automargin": true,
           "gridcolor": "#EBF0F8",
           "linecolor": "#EBF0F8",
           "ticks": "",
           "title": {
            "standoff": 15
           },
           "zerolinecolor": "#EBF0F8",
           "zerolinewidth": 2
          },
          "yaxis": {
           "automargin": true,
           "gridcolor": "#EBF0F8",
           "linecolor": "#EBF0F8",
           "ticks": "",
           "title": {
            "standoff": 15
           },
           "zerolinecolor": "#EBF0F8",
           "zerolinewidth": 2
          }
         }
        },
        "title": {
         "text": "NVDA Close Price Over Time"
        },
        "width": 900,
        "xaxis": {
         "title": {
          "text": "Date"
         }
        },
        "yaxis": {
         "title": {
          "text": "Close Price (USD)"
         }
        }
       }
      }
     },
     "metadata": {},
     "output_type": "display_data"
    }
   ],
   "source": [
    "## graficar la columna 'Close' a lo largo del tiempo\n",
    "import plotly.graph_objects as go\n",
    "\n",
    "fig = go.Figure()\n",
    "\n",
    "fig.add_trace(\n",
    "    go.Scatter(\n",
    "        x=df.index,\n",
    "        y=df[\"Close\"],\n",
    "        mode=\"lines\",\n",
    "        name=\"Close Price\",\n",
    "        line=dict(width=2),\n",
    "    )\n",
    ")\n",
    "\n",
    "fig.update_layout(\n",
    "    title=\"NVDA Close Price Over Time\",\n",
    "    xaxis_title=\"Date\",\n",
    "    yaxis_title=\"Close Price (USD)\",\n",
    "    hovermode=\"x unified\",\n",
    "    template=\"plotly_white\",\n",
    "    width=900,\n",
    "    height=500,\n",
    ")\n",
    "\n",
    "fig.show()\n",
    "\n"
   ]
  },
  {
   "cell_type": "code",
   "execution_count": 4,
   "id": "1b73101d",
   "metadata": {},
   "outputs": [
    {
     "data": {
      "application/vnd.plotly.v1+json": {
       "config": {
        "plotlyServerURL": "https://plot.ly"
       },
       "data": [
        {
         "line": {
          "width": 2
         },
         "mode": "lines",
         "name": "Close",
         "type": "scatter",
         "x": [
          "2025-09-18T00:00:00+00:00",
          "2025-09-19T00:00:00+00:00",
          "2025-09-22T00:00:00+00:00",
          "2025-09-23T00:00:00+00:00",
          "2025-09-24T00:00:00+00:00",
          "2025-09-25T00:00:00+00:00",
          "2025-09-26T00:00:00+00:00",
          "2025-09-29T00:00:00+00:00",
          "2025-09-30T00:00:00+00:00",
          "2025-10-01T00:00:00+00:00",
          "2025-10-02T00:00:00+00:00",
          "2025-10-03T00:00:00+00:00",
          "2025-10-06T00:00:00+00:00",
          "2025-10-07T00:00:00+00:00",
          "2025-10-08T00:00:00+00:00",
          "2025-10-09T00:00:00+00:00",
          "2025-10-10T00:00:00+00:00",
          "2025-10-13T00:00:00+00:00",
          "2025-10-14T00:00:00+00:00",
          "2025-10-15T00:00:00+00:00",
          "2025-10-16T00:00:00+00:00"
         ],
         "y": {
          "bdata": "AAAAIK4HZkAAAACgcBVmQAAAACCF82ZAAAAAgMJNZkAAAABACh9mQAAAAIAUNmZAAAAAgBRGZkAAAABAM7tmQAAAAGCPUmdAAAAAIK5nZ0AAAADgepxnQAAAAADXc2dAAAAAoEcxZ0AAAACgRyFnQAAAACCFo2dAAAAAgD0SaEAAAADAHuVmQAAAAIA9imdAAAAAwPWAZkAAAABgj3pmQAAAAIDruWZA",
          "dtype": "f8"
         }
        },
        {
         "line": {
          "width": 2
         },
         "mode": "lines",
         "name": "High",
         "type": "scatter",
         "x": [
          "2025-09-18T00:00:00+00:00",
          "2025-09-19T00:00:00+00:00",
          "2025-09-22T00:00:00+00:00",
          "2025-09-23T00:00:00+00:00",
          "2025-09-24T00:00:00+00:00",
          "2025-09-25T00:00:00+00:00",
          "2025-09-26T00:00:00+00:00",
          "2025-09-29T00:00:00+00:00",
          "2025-09-30T00:00:00+00:00",
          "2025-10-01T00:00:00+00:00",
          "2025-10-02T00:00:00+00:00",
          "2025-10-03T00:00:00+00:00",
          "2025-10-06T00:00:00+00:00",
          "2025-10-07T00:00:00+00:00",
          "2025-10-08T00:00:00+00:00",
          "2025-10-09T00:00:00+00:00",
          "2025-10-10T00:00:00+00:00",
          "2025-10-13T00:00:00+00:00",
          "2025-10-14T00:00:00+00:00",
          "2025-10-15T00:00:00+00:00",
          "2025-10-16T00:00:00+00:00"
         ],
         "y": {
          "bdata": "AAAAQDMjZkAAAABgj0JmQAAAAKCZEWdAAAAAoHDNZkAAAADA9XhmQAAAAOBRiGZAAAAA4KN4ZkAAAAAAAABnQAAAAEAza2dAAAAA4HqEZ0AAAACgmeFnQAAAACCFy2dAAAAAIFxnZ0AAAACA66FnQAAAAEAzs2dAAAAAoJlpaEAAAAAA13NoQAAAACCFw2dAAAAAoJkZZ0AAAAAA1xtnQAAAAMD16GZA",
          "dtype": "f8"
         }
        },
        {
         "line": {
          "width": 2
         },
         "mode": "lines",
         "name": "Low",
         "type": "scatter",
         "x": [
          "2025-09-18T00:00:00+00:00",
          "2025-09-19T00:00:00+00:00",
          "2025-09-22T00:00:00+00:00",
          "2025-09-23T00:00:00+00:00",
          "2025-09-24T00:00:00+00:00",
          "2025-09-25T00:00:00+00:00",
          "2025-09-26T00:00:00+00:00",
          "2025-09-29T00:00:00+00:00",
          "2025-09-30T00:00:00+00:00",
          "2025-10-01T00:00:00+00:00",
          "2025-10-02T00:00:00+00:00",
          "2025-10-03T00:00:00+00:00",
          "2025-10-06T00:00:00+00:00",
          "2025-10-07T00:00:00+00:00",
          "2025-10-08T00:00:00+00:00",
          "2025-10-09T00:00:00+00:00",
          "2025-10-10T00:00:00+00:00",
          "2025-10-13T00:00:00+00:00",
          "2025-10-14T00:00:00+00:00",
          "2025-10-15T00:00:00+00:00",
          "2025-10-16T00:00:00+00:00"
         ],
         "y": {
          "bdata": "AAAAYLieZUAAAACAwuVlQAAAAGC41mVAAAAAYLgGZkAAAADAzOxlQAAAAAAppGVAAAAAgMLdZUAAAACAPYpmQAAAACBcr2ZAAAAAwMz8ZkAAAACA64FnQAAAAAApLGdAAAAAYI/qZkAAAAAAAABnQAAAAKBHUWdAAAAAgOvhZ0AAAACgmcFmQAAAAGC4PmdAAAAAYGZ2ZkAAAACgRylmQAAAAOCjeGZA",
          "dtype": "f8"
         }
        },
        {
         "line": {
          "width": 2
         },
         "mode": "lines",
         "name": "Open",
         "type": "scatter",
         "x": [
          "2025-09-18T00:00:00+00:00",
          "2025-09-19T00:00:00+00:00",
          "2025-09-22T00:00:00+00:00",
          "2025-09-23T00:00:00+00:00",
          "2025-09-24T00:00:00+00:00",
          "2025-09-25T00:00:00+00:00",
          "2025-09-26T00:00:00+00:00",
          "2025-09-29T00:00:00+00:00",
          "2025-09-30T00:00:00+00:00",
          "2025-10-01T00:00:00+00:00",
          "2025-10-02T00:00:00+00:00",
          "2025-10-03T00:00:00+00:00",
          "2025-10-06T00:00:00+00:00",
          "2025-10-07T00:00:00+00:00",
          "2025-10-08T00:00:00+00:00",
          "2025-10-09T00:00:00+00:00",
          "2025-10-10T00:00:00+00:00",
          "2025-10-13T00:00:00+00:00",
          "2025-10-14T00:00:00+00:00",
          "2025-10-15T00:00:00+00:00",
          "2025-10-16T00:00:00+00:00"
         ],
         "y": {
          "bdata": "AAAAIFy/ZUAAAADgo/hlQAAAAKCZ6WVAAAAAQAq/ZkAAAADgo3hmQAAAACBcz2VAAAAAoHBFZkAAAACAwo1mQAAAAGCPwmZAAAAAIK4nZ0AAAABAM7NnQAAAAIAUpmdAAAAAAAAwZ0AAAAAgXEdnQAAAAIA9UmdAAAAAIFwHaEAAAADgUTBoQAAAAEAKf2dAAAAA4KMYZ0AAAACgmRlnQAAAACBcx2ZA",
          "dtype": "f8"
         }
        },
        {
         "line": {
          "width": 2
         },
         "mode": "lines",
         "name": "Volume",
         "type": "scatter",
         "x": [
          "2025-09-18T00:00:00+00:00",
          "2025-09-19T00:00:00+00:00",
          "2025-09-22T00:00:00+00:00",
          "2025-09-23T00:00:00+00:00",
          "2025-09-24T00:00:00+00:00",
          "2025-09-25T00:00:00+00:00",
          "2025-09-26T00:00:00+00:00",
          "2025-09-29T00:00:00+00:00",
          "2025-09-30T00:00:00+00:00",
          "2025-10-01T00:00:00+00:00",
          "2025-10-02T00:00:00+00:00",
          "2025-10-03T00:00:00+00:00",
          "2025-10-06T00:00:00+00:00",
          "2025-10-07T00:00:00+00:00",
          "2025-10-08T00:00:00+00:00",
          "2025-10-09T00:00:00+00:00",
          "2025-10-10T00:00:00+00:00",
          "2025-10-13T00:00:00+00:00",
          "2025-10-14T00:00:00+00:00",
          "2025-10-15T00:00:00+00:00",
          "2025-10-16T00:00:00+00:00"
         ],
         "y": {
          "bdata": "ZBNuC5QcIw6IVRIQ8Dl6C0SdjgiMYWsLBA7bCEzqgQsICyAOpKlcCqh9JwjkjzMIFPplCcCSWQhEOMIH0FDoCgAsBRAw9iUJuNZBDERByAwkXLYK",
          "dtype": "i4"
         }
        },
        {
         "line": {
          "width": 2
         },
         "mode": "lines",
         "name": "log_return",
         "type": "scatter",
         "x": [
          "2025-09-18T00:00:00+00:00",
          "2025-09-19T00:00:00+00:00",
          "2025-09-22T00:00:00+00:00",
          "2025-09-23T00:00:00+00:00",
          "2025-09-24T00:00:00+00:00",
          "2025-09-25T00:00:00+00:00",
          "2025-09-26T00:00:00+00:00",
          "2025-09-29T00:00:00+00:00",
          "2025-09-30T00:00:00+00:00",
          "2025-10-01T00:00:00+00:00",
          "2025-10-02T00:00:00+00:00",
          "2025-10-03T00:00:00+00:00",
          "2025-10-06T00:00:00+00:00",
          "2025-10-07T00:00:00+00:00",
          "2025-10-08T00:00:00+00:00",
          "2025-10-09T00:00:00+00:00",
          "2025-10-10T00:00:00+00:00",
          "2025-10-13T00:00:00+00:00",
          "2025-10-14T00:00:00+00:00",
          "2025-10-15T00:00:00+00:00",
          "2025-10-16T00:00:00+00:00"
         ],
         "y": {
          "bdata": "wyYyS4aVoT/WzfJebfZjPzCHrbZAuqM/8d2a9e9Nnb8BxoFPmdOAv+O9dSN4oXA/9dTT1t0EZz8he7+i29GUP4OoAyBPS5o/sKKkW1PtbD/y//zI4veBP/FIyd/roXu/WCPshdjUhr8m6ndpHBtmv6KTolxvR5Y/tcFvROiQkj+wSAdxqaapv31LlwUJc5w/Xl/2MsEMp7/UNAGGFDZSv5DS2zkPbYY/",
          "dtype": "f8"
         }
        },
        {
         "line": {
          "width": 2
         },
         "mode": "lines",
         "name": "treasury_yield_10y",
         "type": "scatter",
         "x": [
          "2025-09-18T00:00:00+00:00",
          "2025-09-19T00:00:00+00:00",
          "2025-09-22T00:00:00+00:00",
          "2025-09-23T00:00:00+00:00",
          "2025-09-24T00:00:00+00:00",
          "2025-09-25T00:00:00+00:00",
          "2025-09-26T00:00:00+00:00",
          "2025-09-29T00:00:00+00:00",
          "2025-09-30T00:00:00+00:00",
          "2025-10-01T00:00:00+00:00",
          "2025-10-02T00:00:00+00:00",
          "2025-10-03T00:00:00+00:00",
          "2025-10-06T00:00:00+00:00",
          "2025-10-07T00:00:00+00:00",
          "2025-10-08T00:00:00+00:00",
          "2025-10-09T00:00:00+00:00",
          "2025-10-10T00:00:00+00:00",
          "2025-10-13T00:00:00+00:00",
          "2025-10-14T00:00:00+00:00",
          "2025-10-15T00:00:00+00:00",
          "2025-10-16T00:00:00+00:00"
         ],
         "y": {
          "bdata": "cT0K16NwEECPwvUoXI8QQJqZmZmZmRBAexSuR+F6EECkcD0K16MQQLgehetRuBBAzczMzMzMEECamZmZmZkQQKRwPQrXoxBAexSuR+F6EEBmZmZmZmYQQIXrUbgehRBAuB6F61G4EECPwvUoXI8QQIXrUbgehRBAj8L1KFyPEEAzMzMzMzMQQDMzMzMzMxBAH4XrUbgeEEAzMzMzMzMQQOxRuB6F6w9A",
          "dtype": "f8"
         }
        },
        {
         "line": {
          "width": 2
         },
         "mode": "lines",
         "name": "fed_funds_rate",
         "type": "scatter",
         "x": [
          "2025-09-18T00:00:00+00:00",
          "2025-09-19T00:00:00+00:00",
          "2025-09-22T00:00:00+00:00",
          "2025-09-23T00:00:00+00:00",
          "2025-09-24T00:00:00+00:00",
          "2025-09-25T00:00:00+00:00",
          "2025-09-26T00:00:00+00:00",
          "2025-09-29T00:00:00+00:00",
          "2025-09-30T00:00:00+00:00",
          "2025-10-01T00:00:00+00:00",
          "2025-10-02T00:00:00+00:00",
          "2025-10-03T00:00:00+00:00",
          "2025-10-06T00:00:00+00:00",
          "2025-10-07T00:00:00+00:00",
          "2025-10-08T00:00:00+00:00",
          "2025-10-09T00:00:00+00:00",
          "2025-10-10T00:00:00+00:00",
          "2025-10-13T00:00:00+00:00",
          "2025-10-14T00:00:00+00:00",
          "2025-10-15T00:00:00+00:00",
          "2025-10-16T00:00:00+00:00"
         ],
         "y": {
          "bdata": "UrgehetREEBSuB6F61EQQFyPwvUoXBBAXI/C9ShcEEBcj8L1KFwQQFyPwvUoXBBAXI/C9ShcEEBcj8L1KFwQQFyPwvUoXBBAXI/C9ShcEEBcj8L1KFwQQFyPwvUoXBBAXI/C9ShcEEBcj8L1KFwQQGZmZmZmZhBAZmZmZmZmEEBmZmZmZmYQQGZmZmZmZhBAZmZmZmZmEEBmZmZmZmYQQHE9CtejcBBA",
          "dtype": "f8"
         }
        },
        {
         "line": {
          "width": 2
         },
         "mode": "lines",
         "name": "inflation_expectation_10y",
         "type": "scatter",
         "x": [
          "2025-09-18T00:00:00+00:00",
          "2025-09-19T00:00:00+00:00",
          "2025-09-22T00:00:00+00:00",
          "2025-09-23T00:00:00+00:00",
          "2025-09-24T00:00:00+00:00",
          "2025-09-25T00:00:00+00:00",
          "2025-09-26T00:00:00+00:00",
          "2025-09-29T00:00:00+00:00",
          "2025-09-30T00:00:00+00:00",
          "2025-10-01T00:00:00+00:00",
          "2025-10-02T00:00:00+00:00",
          "2025-10-03T00:00:00+00:00",
          "2025-10-06T00:00:00+00:00",
          "2025-10-07T00:00:00+00:00",
          "2025-10-08T00:00:00+00:00",
          "2025-10-09T00:00:00+00:00",
          "2025-10-10T00:00:00+00:00",
          "2025-10-13T00:00:00+00:00",
          "2025-10-14T00:00:00+00:00",
          "2025-10-15T00:00:00+00:00",
          "2025-10-16T00:00:00+00:00"
         ],
         "y": {
          "bdata": "CtejcD0KA0AfhetRuB4DQPYoXI/C9QJA9ihcj8L1AkAK16NwPQoDQArXo3A9CgNACtejcD0KA0DNzMzMzMwCQOF6FK5H4QJAzczMzMzMAkC4HoXrUbgCQKRwPQrXowJAuB6F61G4AkDNzMzMzMwCQM3MzMzMzAJAuB6F61G4AkBmZmZmZmYCQGZmZmZmZgJAZmZmZmZmAkBSuB6F61ECQD0K16NwPQJA",
          "dtype": "f8"
         }
        },
        {
         "line": {
          "width": 2
         },
         "mode": "lines",
         "name": "dollar_index",
         "type": "scatter",
         "x": [
          "2025-09-18T00:00:00+00:00",
          "2025-09-19T00:00:00+00:00",
          "2025-09-22T00:00:00+00:00",
          "2025-09-23T00:00:00+00:00",
          "2025-09-24T00:00:00+00:00",
          "2025-09-25T00:00:00+00:00",
          "2025-09-26T00:00:00+00:00",
          "2025-09-29T00:00:00+00:00",
          "2025-09-30T00:00:00+00:00",
          "2025-10-01T00:00:00+00:00",
          "2025-10-02T00:00:00+00:00",
          "2025-10-03T00:00:00+00:00",
          "2025-10-06T00:00:00+00:00",
          "2025-10-07T00:00:00+00:00",
          "2025-10-08T00:00:00+00:00",
          "2025-10-09T00:00:00+00:00",
          "2025-10-10T00:00:00+00:00",
          "2025-10-13T00:00:00+00:00",
          "2025-10-14T00:00:00+00:00",
          "2025-10-15T00:00:00+00:00",
          "2025-10-16T00:00:00+00:00"
         ],
         "y": {
          "bdata": "rthfdk8GXkASFD/G3A1eQOviNhrAD15Aa5p3nKIDXkARx7q4jSZeQIts5/upPV5AQmDl0CI3XkDYgXNGlCJeQE7RkVz+I15ABaOSOgElXkC8dJMYBDZeQDC7Jw8LIV5APujZrPosXkD1SlmGODpeQECk374OTF5Asp3vp8ZfXkCvlGWIY2FeQK+UZYhjYV5Ar5RliGNhXkCvlGWIY2FeQK+UZYhjYV5A",
          "dtype": "f8"
         }
        },
        {
         "line": {
          "width": 2
         },
         "mode": "lines",
         "name": "oil_price_wti",
         "type": "scatter",
         "x": [
          "2025-09-18T00:00:00+00:00",
          "2025-09-19T00:00:00+00:00",
          "2025-09-22T00:00:00+00:00",
          "2025-09-23T00:00:00+00:00",
          "2025-09-24T00:00:00+00:00",
          "2025-09-25T00:00:00+00:00",
          "2025-09-26T00:00:00+00:00",
          "2025-09-29T00:00:00+00:00",
          "2025-09-30T00:00:00+00:00",
          "2025-10-01T00:00:00+00:00",
          "2025-10-02T00:00:00+00:00",
          "2025-10-03T00:00:00+00:00",
          "2025-10-06T00:00:00+00:00",
          "2025-10-07T00:00:00+00:00",
          "2025-10-08T00:00:00+00:00",
          "2025-10-09T00:00:00+00:00",
          "2025-10-10T00:00:00+00:00",
          "2025-10-13T00:00:00+00:00",
          "2025-10-14T00:00:00+00:00",
          "2025-10-15T00:00:00+00:00",
          "2025-10-16T00:00:00+00:00"
         ],
         "y": {
          "bdata": "FK5H4Xr0T0DD9Shcj4JPQB+F61G4fk9A4XoUrkfhT0CamZmZmVlQQHE9CtejYFBAAAAAAACgUEDhehSuRxFQQPYoXI/ClU9A7FG4HoVLT0CkcD0K16NOQDMzMzMz005AH4XrUbg+T0DD9Shcj0JPQI/C9Shcr09ArkfhehQuT0AAAAAAAOBNQAAAAAAA4E1Aw/UoXI/CTUDD9Shcj8JNQMP1KFyPwk1A",
          "dtype": "f8"
         }
        },
        {
         "line": {
          "width": 2
         },
         "mode": "lines",
         "name": "sp500_index",
         "type": "scatter",
         "x": [
          "2025-09-18T00:00:00+00:00",
          "2025-09-19T00:00:00+00:00",
          "2025-09-22T00:00:00+00:00",
          "2025-09-23T00:00:00+00:00",
          "2025-09-24T00:00:00+00:00",
          "2025-09-25T00:00:00+00:00",
          "2025-09-26T00:00:00+00:00",
          "2025-09-29T00:00:00+00:00",
          "2025-09-30T00:00:00+00:00",
          "2025-10-01T00:00:00+00:00",
          "2025-10-02T00:00:00+00:00",
          "2025-10-03T00:00:00+00:00",
          "2025-10-06T00:00:00+00:00",
          "2025-10-07T00:00:00+00:00",
          "2025-10-08T00:00:00+00:00",
          "2025-10-09T00:00:00+00:00",
          "2025-10-10T00:00:00+00:00",
          "2025-10-13T00:00:00+00:00",
          "2025-10-14T00:00:00+00:00",
          "2025-10-15T00:00:00+00:00",
          "2025-10-16T00:00:00+00:00"
         ],
         "y": {
          "bdata": "KVyPwvXnuUCPwvUoXAi6QAAAAADAJbpAUrgehesAukAfhetR+O25QB+F61G4zLlAMzMzM7PzuUApXI/CNQW6QClcj8J1ILpAMzMzMzM3ukCamZmZWTu6QNejcD3KO7pA4XoUrkdUukCkcD0Klzq6QB+F61G4YbpAj8L1KBxPukD2KFyPgpi5QB+F61G4/rlAw/UoXE/0uUDD9ShcDw+6QLgehesR5blA",
          "dtype": "f8"
         }
        },
        {
         "line": {
          "width": 2
         },
         "mode": "lines",
         "name": "vix_volatility",
         "type": "scatter",
         "x": [
          "2025-09-18T00:00:00+00:00",
          "2025-09-19T00:00:00+00:00",
          "2025-09-22T00:00:00+00:00",
          "2025-09-23T00:00:00+00:00",
          "2025-09-24T00:00:00+00:00",
          "2025-09-25T00:00:00+00:00",
          "2025-09-26T00:00:00+00:00",
          "2025-09-29T00:00:00+00:00",
          "2025-09-30T00:00:00+00:00",
          "2025-10-01T00:00:00+00:00",
          "2025-10-02T00:00:00+00:00",
          "2025-10-03T00:00:00+00:00",
          "2025-10-06T00:00:00+00:00",
          "2025-10-07T00:00:00+00:00",
          "2025-10-08T00:00:00+00:00",
          "2025-10-09T00:00:00+00:00",
          "2025-10-10T00:00:00+00:00",
          "2025-10-13T00:00:00+00:00",
          "2025-10-14T00:00:00+00:00",
          "2025-10-15T00:00:00+00:00",
          "2025-10-16T00:00:00+00:00"
         ],
         "y": {
          "bdata": "ZmZmZmZmL0BmZmZmZuYuQJqZmZmZGTBApHA9CtejMECuR+F6FC4wQD0K16NwvTBAFK5H4XqULkAfhetRuB4wQEjhehSuRzBACtejcD1KMEDhehSuR6EwQGZmZmZmpjBAH4XrUbheMEA9CtejcD0xQM3MzMzMTDBArkfhehRuMEApXI/C9ag1QEjhehSuBzNAj8L1KFzPNECkcD0K16M0QI/C9ShcTzlA",
          "dtype": "f8"
         }
        },
        {
         "line": {
          "width": 2
         },
         "mode": "lines",
         "name": "yield_spread_10y_2y",
         "type": "scatter",
         "x": [
          "2025-09-18T00:00:00+00:00",
          "2025-09-19T00:00:00+00:00",
          "2025-09-22T00:00:00+00:00",
          "2025-09-23T00:00:00+00:00",
          "2025-09-24T00:00:00+00:00",
          "2025-09-25T00:00:00+00:00",
          "2025-09-26T00:00:00+00:00",
          "2025-09-29T00:00:00+00:00",
          "2025-09-30T00:00:00+00:00",
          "2025-10-01T00:00:00+00:00",
          "2025-10-02T00:00:00+00:00",
          "2025-10-03T00:00:00+00:00",
          "2025-10-06T00:00:00+00:00",
          "2025-10-07T00:00:00+00:00",
          "2025-10-08T00:00:00+00:00",
          "2025-10-09T00:00:00+00:00",
          "2025-10-10T00:00:00+00:00",
          "2025-10-13T00:00:00+00:00",
          "2025-10-14T00:00:00+00:00",
          "2025-10-15T00:00:00+00:00",
          "2025-10-16T00:00:00+00:00"
         ],
         "y": {
          "bdata": "SOF6FK5H4T89CtejcD3iP0jhehSuR+E/4XoUrkfh4j/hehSuR+HiP0jhehSuR+E/PQrXo3A94j+kcD0K16PgP+xRuB6F6+E/PQrXo3A94j+amZmZmZnhP5qZmZmZmeE/j8L1KFyP4j89CtejcD3iP5qZmZmZmeE/SOF6FK5H4T/2KFyPwvXgP/YoXI/C9eA/mpmZmZmZ4T+amZmZmZnhP4/C9Shcj+I/",
          "dtype": "f8"
         }
        },
        {
         "line": {
          "width": 2
         },
         "mode": "lines",
         "name": "high_yield_spread",
         "type": "scatter",
         "x": [
          "2025-09-18T00:00:00+00:00",
          "2025-09-19T00:00:00+00:00",
          "2025-09-22T00:00:00+00:00",
          "2025-09-23T00:00:00+00:00",
          "2025-09-24T00:00:00+00:00",
          "2025-09-25T00:00:00+00:00",
          "2025-09-26T00:00:00+00:00",
          "2025-09-29T00:00:00+00:00",
          "2025-09-30T00:00:00+00:00",
          "2025-10-01T00:00:00+00:00",
          "2025-10-02T00:00:00+00:00",
          "2025-10-03T00:00:00+00:00",
          "2025-10-06T00:00:00+00:00",
          "2025-10-07T00:00:00+00:00",
          "2025-10-08T00:00:00+00:00",
          "2025-10-09T00:00:00+00:00",
          "2025-10-10T00:00:00+00:00",
          "2025-10-13T00:00:00+00:00",
          "2025-10-14T00:00:00+00:00",
          "2025-10-15T00:00:00+00:00",
          "2025-10-16T00:00:00+00:00"
         ],
         "y": {
          "bdata": "rkfhehSuBUDD9Shcj8IFQIXrUbgehQVArkfhehSuBUCamZmZmZkFQBSuR+F6FAZAAAAAAAAABkDsUbgehesFQGZmZmZmZgZAexSuR+F6BkB7FK5H4XoGQGZmZmZmZgZAFK5H4XoUBkCPwvUoXI8GQLgehetRuAZAmpmZmZmZB0BxPQrXo3AJQHE9CtejcAlA4XoUrkfhCECamZmZmZkHQFK4HoXrUQhA",
          "dtype": "f8"
         }
        }
       ],
       "layout": {
        "height": 600,
        "hovermode": "x unified",
        "template": {
         "data": {
          "bar": [
           {
            "error_x": {
             "color": "#2a3f5f"
            },
            "error_y": {
             "color": "#2a3f5f"
            },
            "marker": {
             "line": {
              "color": "white",
              "width": 0.5
             },
             "pattern": {
              "fillmode": "overlay",
              "size": 10,
              "solidity": 0.2
             }
            },
            "type": "bar"
           }
          ],
          "barpolar": [
           {
            "marker": {
             "line": {
              "color": "white",
              "width": 0.5
             },
             "pattern": {
              "fillmode": "overlay",
              "size": 10,
              "solidity": 0.2
             }
            },
            "type": "barpolar"
           }
          ],
          "carpet": [
           {
            "aaxis": {
             "endlinecolor": "#2a3f5f",
             "gridcolor": "#C8D4E3",
             "linecolor": "#C8D4E3",
             "minorgridcolor": "#C8D4E3",
             "startlinecolor": "#2a3f5f"
            },
            "baxis": {
             "endlinecolor": "#2a3f5f",
             "gridcolor": "#C8D4E3",
             "linecolor": "#C8D4E3",
             "minorgridcolor": "#C8D4E3",
             "startlinecolor": "#2a3f5f"
            },
            "type": "carpet"
           }
          ],
          "choropleth": [
           {
            "colorbar": {
             "outlinewidth": 0,
             "ticks": ""
            },
            "type": "choropleth"
           }
          ],
          "contour": [
           {
            "colorbar": {
             "outlinewidth": 0,
             "ticks": ""
            },
            "colorscale": [
             [
              0,
              "#0d0887"
             ],
             [
              0.1111111111111111,
              "#46039f"
             ],
             [
              0.2222222222222222,
              "#7201a8"
             ],
             [
              0.3333333333333333,
              "#9c179e"
             ],
             [
              0.4444444444444444,
              "#bd3786"
             ],
             [
              0.5555555555555556,
              "#d8576b"
             ],
             [
              0.6666666666666666,
              "#ed7953"
             ],
             [
              0.7777777777777778,
              "#fb9f3a"
             ],
             [
              0.8888888888888888,
              "#fdca26"
             ],
             [
              1,
              "#f0f921"
             ]
            ],
            "type": "contour"
           }
          ],
          "contourcarpet": [
           {
            "colorbar": {
             "outlinewidth": 0,
             "ticks": ""
            },
            "type": "contourcarpet"
           }
          ],
          "heatmap": [
           {
            "colorbar": {
             "outlinewidth": 0,
             "ticks": ""
            },
            "colorscale": [
             [
              0,
              "#0d0887"
             ],
             [
              0.1111111111111111,
              "#46039f"
             ],
             [
              0.2222222222222222,
              "#7201a8"
             ],
             [
              0.3333333333333333,
              "#9c179e"
             ],
             [
              0.4444444444444444,
              "#bd3786"
             ],
             [
              0.5555555555555556,
              "#d8576b"
             ],
             [
              0.6666666666666666,
              "#ed7953"
             ],
             [
              0.7777777777777778,
              "#fb9f3a"
             ],
             [
              0.8888888888888888,
              "#fdca26"
             ],
             [
              1,
              "#f0f921"
             ]
            ],
            "type": "heatmap"
           }
          ],
          "histogram": [
           {
            "marker": {
             "pattern": {
              "fillmode": "overlay",
              "size": 10,
              "solidity": 0.2
             }
            },
            "type": "histogram"
           }
          ],
          "histogram2d": [
           {
            "colorbar": {
             "outlinewidth": 0,
             "ticks": ""
            },
            "colorscale": [
             [
              0,
              "#0d0887"
             ],
             [
              0.1111111111111111,
              "#46039f"
             ],
             [
              0.2222222222222222,
              "#7201a8"
             ],
             [
              0.3333333333333333,
              "#9c179e"
             ],
             [
              0.4444444444444444,
              "#bd3786"
             ],
             [
              0.5555555555555556,
              "#d8576b"
             ],
             [
              0.6666666666666666,
              "#ed7953"
             ],
             [
              0.7777777777777778,
              "#fb9f3a"
             ],
             [
              0.8888888888888888,
              "#fdca26"
             ],
             [
              1,
              "#f0f921"
             ]
            ],
            "type": "histogram2d"
           }
          ],
          "histogram2dcontour": [
           {
            "colorbar": {
             "outlinewidth": 0,
             "ticks": ""
            },
            "colorscale": [
             [
              0,
              "#0d0887"
             ],
             [
              0.1111111111111111,
              "#46039f"
             ],
             [
              0.2222222222222222,
              "#7201a8"
             ],
             [
              0.3333333333333333,
              "#9c179e"
             ],
             [
              0.4444444444444444,
              "#bd3786"
             ],
             [
              0.5555555555555556,
              "#d8576b"
             ],
             [
              0.6666666666666666,
              "#ed7953"
             ],
             [
              0.7777777777777778,
              "#fb9f3a"
             ],
             [
              0.8888888888888888,
              "#fdca26"
             ],
             [
              1,
              "#f0f921"
             ]
            ],
            "type": "histogram2dcontour"
           }
          ],
          "mesh3d": [
           {
            "colorbar": {
             "outlinewidth": 0,
             "ticks": ""
            },
            "type": "mesh3d"
           }
          ],
          "parcoords": [
           {
            "line": {
             "colorbar": {
              "outlinewidth": 0,
              "ticks": ""
             }
            },
            "type": "parcoords"
           }
          ],
          "pie": [
           {
            "automargin": true,
            "type": "pie"
           }
          ],
          "scatter": [
           {
            "fillpattern": {
             "fillmode": "overlay",
             "size": 10,
             "solidity": 0.2
            },
            "type": "scatter"
           }
          ],
          "scatter3d": [
           {
            "line": {
             "colorbar": {
              "outlinewidth": 0,
              "ticks": ""
             }
            },
            "marker": {
             "colorbar": {
              "outlinewidth": 0,
              "ticks": ""
             }
            },
            "type": "scatter3d"
           }
          ],
          "scattercarpet": [
           {
            "marker": {
             "colorbar": {
              "outlinewidth": 0,
              "ticks": ""
             }
            },
            "type": "scattercarpet"
           }
          ],
          "scattergeo": [
           {
            "marker": {
             "colorbar": {
              "outlinewidth": 0,
              "ticks": ""
             }
            },
            "type": "scattergeo"
           }
          ],
          "scattergl": [
           {
            "marker": {
             "colorbar": {
              "outlinewidth": 0,
              "ticks": ""
             }
            },
            "type": "scattergl"
           }
          ],
          "scattermap": [
           {
            "marker": {
             "colorbar": {
              "outlinewidth": 0,
              "ticks": ""
             }
            },
            "type": "scattermap"
           }
          ],
          "scattermapbox": [
           {
            "marker": {
             "colorbar": {
              "outlinewidth": 0,
              "ticks": ""
             }
            },
            "type": "scattermapbox"
           }
          ],
          "scatterpolar": [
           {
            "marker": {
             "colorbar": {
              "outlinewidth": 0,
              "ticks": ""
             }
            },
            "type": "scatterpolar"
           }
          ],
          "scatterpolargl": [
           {
            "marker": {
             "colorbar": {
              "outlinewidth": 0,
              "ticks": ""
             }
            },
            "type": "scatterpolargl"
           }
          ],
          "scatterternary": [
           {
            "marker": {
             "colorbar": {
              "outlinewidth": 0,
              "ticks": ""
             }
            },
            "type": "scatterternary"
           }
          ],
          "surface": [
           {
            "colorbar": {
             "outlinewidth": 0,
             "ticks": ""
            },
            "colorscale": [
             [
              0,
              "#0d0887"
             ],
             [
              0.1111111111111111,
              "#46039f"
             ],
             [
              0.2222222222222222,
              "#7201a8"
             ],
             [
              0.3333333333333333,
              "#9c179e"
             ],
             [
              0.4444444444444444,
              "#bd3786"
             ],
             [
              0.5555555555555556,
              "#d8576b"
             ],
             [
              0.6666666666666666,
              "#ed7953"
             ],
             [
              0.7777777777777778,
              "#fb9f3a"
             ],
             [
              0.8888888888888888,
              "#fdca26"
             ],
             [
              1,
              "#f0f921"
             ]
            ],
            "type": "surface"
           }
          ],
          "table": [
           {
            "cells": {
             "fill": {
              "color": "#EBF0F8"
             },
             "line": {
              "color": "white"
             }
            },
            "header": {
             "fill": {
              "color": "#C8D4E3"
             },
             "line": {
              "color": "white"
             }
            },
            "type": "table"
           }
          ]
         },
         "layout": {
          "annotationdefaults": {
           "arrowcolor": "#2a3f5f",
           "arrowhead": 0,
           "arrowwidth": 1
          },
          "autotypenumbers": "strict",
          "coloraxis": {
           "colorbar": {
            "outlinewidth": 0,
            "ticks": ""
           }
          },
          "colorscale": {
           "diverging": [
            [
             0,
             "#8e0152"
            ],
            [
             0.1,
             "#c51b7d"
            ],
            [
             0.2,
             "#de77ae"
            ],
            [
             0.3,
             "#f1b6da"
            ],
            [
             0.4,
             "#fde0ef"
            ],
            [
             0.5,
             "#f7f7f7"
            ],
            [
             0.6,
             "#e6f5d0"
            ],
            [
             0.7,
             "#b8e186"
            ],
            [
             0.8,
             "#7fbc41"
            ],
            [
             0.9,
             "#4d9221"
            ],
            [
             1,
             "#276419"
            ]
           ],
           "sequential": [
            [
             0,
             "#0d0887"
            ],
            [
             0.1111111111111111,
             "#46039f"
            ],
            [
             0.2222222222222222,
             "#7201a8"
            ],
            [
             0.3333333333333333,
             "#9c179e"
            ],
            [
             0.4444444444444444,
             "#bd3786"
            ],
            [
             0.5555555555555556,
             "#d8576b"
            ],
            [
             0.6666666666666666,
             "#ed7953"
            ],
            [
             0.7777777777777778,
             "#fb9f3a"
            ],
            [
             0.8888888888888888,
             "#fdca26"
            ],
            [
             1,
             "#f0f921"
            ]
           ],
           "sequentialminus": [
            [
             0,
             "#0d0887"
            ],
            [
             0.1111111111111111,
             "#46039f"
            ],
            [
             0.2222222222222222,
             "#7201a8"
            ],
            [
             0.3333333333333333,
             "#9c179e"
            ],
            [
             0.4444444444444444,
             "#bd3786"
            ],
            [
             0.5555555555555556,
             "#d8576b"
            ],
            [
             0.6666666666666666,
             "#ed7953"
            ],
            [
             0.7777777777777778,
             "#fb9f3a"
            ],
            [
             0.8888888888888888,
             "#fdca26"
            ],
            [
             1,
             "#f0f921"
            ]
           ]
          },
          "colorway": [
           "#636efa",
           "#EF553B",
           "#00cc96",
           "#ab63fa",
           "#FFA15A",
           "#19d3f3",
           "#FF6692",
           "#B6E880",
           "#FF97FF",
           "#FECB52"
          ],
          "font": {
           "color": "#2a3f5f"
          },
          "geo": {
           "bgcolor": "white",
           "lakecolor": "white",
           "landcolor": "white",
           "showlakes": true,
           "showland": true,
           "subunitcolor": "#C8D4E3"
          },
          "hoverlabel": {
           "align": "left"
          },
          "hovermode": "closest",
          "mapbox": {
           "style": "light"
          },
          "paper_bgcolor": "white",
          "plot_bgcolor": "white",
          "polar": {
           "angularaxis": {
            "gridcolor": "#EBF0F8",
            "linecolor": "#EBF0F8",
            "ticks": ""
           },
           "bgcolor": "white",
           "radialaxis": {
            "gridcolor": "#EBF0F8",
            "linecolor": "#EBF0F8",
            "ticks": ""
           }
          },
          "scene": {
           "xaxis": {
            "backgroundcolor": "white",
            "gridcolor": "#DFE8F3",
            "gridwidth": 2,
            "linecolor": "#EBF0F8",
            "showbackground": true,
            "ticks": "",
            "zerolinecolor": "#EBF0F8"
           },
           "yaxis": {
            "backgroundcolor": "white",
            "gridcolor": "#DFE8F3",
            "gridwidth": 2,
            "linecolor": "#EBF0F8",
            "showbackground": true,
            "ticks": "",
            "zerolinecolor": "#EBF0F8"
           },
           "zaxis": {
            "backgroundcolor": "white",
            "gridcolor": "#DFE8F3",
            "gridwidth": 2,
            "linecolor": "#EBF0F8",
            "showbackground": true,
            "ticks": "",
            "zerolinecolor": "#EBF0F8"
           }
          },
          "shapedefaults": {
           "line": {
            "color": "#2a3f5f"
           }
          },
          "ternary": {
           "aaxis": {
            "gridcolor": "#DFE8F3",
            "linecolor": "#A2B1C6",
            "ticks": ""
           },
           "baxis": {
            "gridcolor": "#DFE8F3",
            "linecolor": "#A2B1C6",
            "ticks": ""
           },
           "bgcolor": "white",
           "caxis": {
            "gridcolor": "#DFE8F3",
            "linecolor": "#A2B1C6",
            "ticks": ""
           }
          },
          "title": {
           "x": 0.05
          },
          "xaxis": {
           "automargin": true,
           "gridcolor": "#EBF0F8",
           "linecolor": "#EBF0F8",
           "ticks": "",
           "title": {
            "standoff": 15
           },
           "zerolinecolor": "#EBF0F8",
           "zerolinewidth": 2
          },
          "yaxis": {
           "automargin": true,
           "gridcolor": "#EBF0F8",
           "linecolor": "#EBF0F8",
           "ticks": "",
           "title": {
            "standoff": 15
           },
           "zerolinecolor": "#EBF0F8",
           "zerolinewidth": 2
          }
         }
        },
        "title": {
         "text": "Series temporales de todas las columnas numéricas"
        },
        "width": 950,
        "xaxis": {
         "title": {
          "text": "Date"
         }
        },
        "yaxis": {
         "title": {
          "text": "Value"
         }
        }
       }
      }
     },
     "metadata": {},
     "output_type": "display_data"
    }
   ],
   "source": [
    "import plotly.graph_objects as go\n",
    "\n",
    "# Filtramos solo las columnas numéricas (por ejemplo Close, Open, High, Low, Volume)\n",
    "numeric_cols = df.select_dtypes(include=\"number\").columns\n",
    "\n",
    "fig = go.Figure()\n",
    "\n",
    "for col in numeric_cols:\n",
    "    fig.add_trace(\n",
    "        go.Scatter(\n",
    "            x=df.index,\n",
    "            y=df[col],\n",
    "            mode=\"lines\",\n",
    "            name=col,\n",
    "            line=dict(width=2)\n",
    "        )\n",
    "    )\n",
    "\n",
    "fig.update_layout(\n",
    "    title=\"Series temporales de todas las columnas numéricas\",\n",
    "    xaxis_title=\"Date\",\n",
    "    yaxis_title=\"Value\",\n",
    "    hovermode=\"x unified\",\n",
    "    template=\"plotly_white\",\n",
    "    width=950,\n",
    "    height=600,\n",
    ")\n",
    "\n",
    "fig.show()"
   ]
  },
  {
   "cell_type": "code",
   "execution_count": 5,
   "id": "faff0111",
   "metadata": {},
   "outputs": [
    {
     "data": {
      "application/vnd.plotly.v1+json": {
       "config": {
        "plotlyServerURL": "https://plot.ly"
       },
       "data": [
        {
         "mode": "lines",
         "name": "Close",
         "type": "scatter",
         "x": [
          "2025-09-18T00:00:00+00:00",
          "2025-09-19T00:00:00+00:00",
          "2025-09-22T00:00:00+00:00",
          "2025-09-23T00:00:00+00:00",
          "2025-09-24T00:00:00+00:00",
          "2025-09-25T00:00:00+00:00",
          "2025-09-26T00:00:00+00:00",
          "2025-09-29T00:00:00+00:00",
          "2025-09-30T00:00:00+00:00",
          "2025-10-01T00:00:00+00:00",
          "2025-10-02T00:00:00+00:00",
          "2025-10-03T00:00:00+00:00",
          "2025-10-06T00:00:00+00:00",
          "2025-10-07T00:00:00+00:00",
          "2025-10-08T00:00:00+00:00",
          "2025-10-09T00:00:00+00:00",
          "2025-10-10T00:00:00+00:00",
          "2025-10-13T00:00:00+00:00",
          "2025-10-14T00:00:00+00:00",
          "2025-10-15T00:00:00+00:00",
          "2025-10-16T00:00:00+00:00"
         ],
         "xaxis": "x",
         "y": {
          "bdata": "AAAAIK4HZkAAAACgcBVmQAAAACCF82ZAAAAAgMJNZkAAAABACh9mQAAAAIAUNmZAAAAAgBRGZkAAAABAM7tmQAAAAGCPUmdAAAAAIK5nZ0AAAADgepxnQAAAAADXc2dAAAAAoEcxZ0AAAACgRyFnQAAAACCFo2dAAAAAgD0SaEAAAADAHuVmQAAAAIA9imdAAAAAwPWAZkAAAABgj3pmQAAAAIDruWZA",
          "dtype": "f8"
         },
         "yaxis": "y"
        },
        {
         "mode": "lines",
         "name": "High",
         "type": "scatter",
         "x": [
          "2025-09-18T00:00:00+00:00",
          "2025-09-19T00:00:00+00:00",
          "2025-09-22T00:00:00+00:00",
          "2025-09-23T00:00:00+00:00",
          "2025-09-24T00:00:00+00:00",
          "2025-09-25T00:00:00+00:00",
          "2025-09-26T00:00:00+00:00",
          "2025-09-29T00:00:00+00:00",
          "2025-09-30T00:00:00+00:00",
          "2025-10-01T00:00:00+00:00",
          "2025-10-02T00:00:00+00:00",
          "2025-10-03T00:00:00+00:00",
          "2025-10-06T00:00:00+00:00",
          "2025-10-07T00:00:00+00:00",
          "2025-10-08T00:00:00+00:00",
          "2025-10-09T00:00:00+00:00",
          "2025-10-10T00:00:00+00:00",
          "2025-10-13T00:00:00+00:00",
          "2025-10-14T00:00:00+00:00",
          "2025-10-15T00:00:00+00:00",
          "2025-10-16T00:00:00+00:00"
         ],
         "xaxis": "x",
         "y": {
          "bdata": "AAAAQDMjZkAAAABgj0JmQAAAAKCZEWdAAAAAoHDNZkAAAADA9XhmQAAAAOBRiGZAAAAA4KN4ZkAAAAAAAABnQAAAAEAza2dAAAAA4HqEZ0AAAACgmeFnQAAAACCFy2dAAAAAIFxnZ0AAAACA66FnQAAAAEAzs2dAAAAAoJlpaEAAAAAA13NoQAAAACCFw2dAAAAAoJkZZ0AAAAAA1xtnQAAAAMD16GZA",
          "dtype": "f8"
         },
         "yaxis": "y"
        },
        {
         "mode": "lines",
         "name": "Low",
         "type": "scatter",
         "x": [
          "2025-09-18T00:00:00+00:00",
          "2025-09-19T00:00:00+00:00",
          "2025-09-22T00:00:00+00:00",
          "2025-09-23T00:00:00+00:00",
          "2025-09-24T00:00:00+00:00",
          "2025-09-25T00:00:00+00:00",
          "2025-09-26T00:00:00+00:00",
          "2025-09-29T00:00:00+00:00",
          "2025-09-30T00:00:00+00:00",
          "2025-10-01T00:00:00+00:00",
          "2025-10-02T00:00:00+00:00",
          "2025-10-03T00:00:00+00:00",
          "2025-10-06T00:00:00+00:00",
          "2025-10-07T00:00:00+00:00",
          "2025-10-08T00:00:00+00:00",
          "2025-10-09T00:00:00+00:00",
          "2025-10-10T00:00:00+00:00",
          "2025-10-13T00:00:00+00:00",
          "2025-10-14T00:00:00+00:00",
          "2025-10-15T00:00:00+00:00",
          "2025-10-16T00:00:00+00:00"
         ],
         "xaxis": "x",
         "y": {
          "bdata": "AAAAYLieZUAAAACAwuVlQAAAAGC41mVAAAAAYLgGZkAAAADAzOxlQAAAAAAppGVAAAAAgMLdZUAAAACAPYpmQAAAACBcr2ZAAAAAwMz8ZkAAAACA64FnQAAAAAApLGdAAAAAYI/qZkAAAAAAAABnQAAAAKBHUWdAAAAAgOvhZ0AAAACgmcFmQAAAAGC4PmdAAAAAYGZ2ZkAAAACgRylmQAAAAOCjeGZA",
          "dtype": "f8"
         },
         "yaxis": "y"
        },
        {
         "mode": "lines",
         "name": "Open",
         "type": "scatter",
         "x": [
          "2025-09-18T00:00:00+00:00",
          "2025-09-19T00:00:00+00:00",
          "2025-09-22T00:00:00+00:00",
          "2025-09-23T00:00:00+00:00",
          "2025-09-24T00:00:00+00:00",
          "2025-09-25T00:00:00+00:00",
          "2025-09-26T00:00:00+00:00",
          "2025-09-29T00:00:00+00:00",
          "2025-09-30T00:00:00+00:00",
          "2025-10-01T00:00:00+00:00",
          "2025-10-02T00:00:00+00:00",
          "2025-10-03T00:00:00+00:00",
          "2025-10-06T00:00:00+00:00",
          "2025-10-07T00:00:00+00:00",
          "2025-10-08T00:00:00+00:00",
          "2025-10-09T00:00:00+00:00",
          "2025-10-10T00:00:00+00:00",
          "2025-10-13T00:00:00+00:00",
          "2025-10-14T00:00:00+00:00",
          "2025-10-15T00:00:00+00:00",
          "2025-10-16T00:00:00+00:00"
         ],
         "xaxis": "x",
         "y": {
          "bdata": "AAAAIFy/ZUAAAADgo/hlQAAAAKCZ6WVAAAAAQAq/ZkAAAADgo3hmQAAAACBcz2VAAAAAoHBFZkAAAACAwo1mQAAAAGCPwmZAAAAAIK4nZ0AAAABAM7NnQAAAAIAUpmdAAAAAAAAwZ0AAAAAgXEdnQAAAAIA9UmdAAAAAIFwHaEAAAADgUTBoQAAAAEAKf2dAAAAA4KMYZ0AAAACgmRlnQAAAACBcx2ZA",
          "dtype": "f8"
         },
         "yaxis": "y"
        },
        {
         "mode": "lines",
         "name": "Volume",
         "type": "scatter",
         "x": [
          "2025-09-18T00:00:00+00:00",
          "2025-09-19T00:00:00+00:00",
          "2025-09-22T00:00:00+00:00",
          "2025-09-23T00:00:00+00:00",
          "2025-09-24T00:00:00+00:00",
          "2025-09-25T00:00:00+00:00",
          "2025-09-26T00:00:00+00:00",
          "2025-09-29T00:00:00+00:00",
          "2025-09-30T00:00:00+00:00",
          "2025-10-01T00:00:00+00:00",
          "2025-10-02T00:00:00+00:00",
          "2025-10-03T00:00:00+00:00",
          "2025-10-06T00:00:00+00:00",
          "2025-10-07T00:00:00+00:00",
          "2025-10-08T00:00:00+00:00",
          "2025-10-09T00:00:00+00:00",
          "2025-10-10T00:00:00+00:00",
          "2025-10-13T00:00:00+00:00",
          "2025-10-14T00:00:00+00:00",
          "2025-10-15T00:00:00+00:00",
          "2025-10-16T00:00:00+00:00"
         ],
         "xaxis": "x2",
         "y": {
          "bdata": "ZBNuC5QcIw6IVRIQ8Dl6C0SdjgiMYWsLBA7bCEzqgQsICyAOpKlcCqh9JwjkjzMIFPplCcCSWQhEOMIH0FDoCgAsBRAw9iUJuNZBDERByAwkXLYK",
          "dtype": "i4"
         },
         "yaxis": "y2"
        },
        {
         "mode": "lines",
         "name": "log_return",
         "type": "scatter",
         "x": [
          "2025-09-18T00:00:00+00:00",
          "2025-09-19T00:00:00+00:00",
          "2025-09-22T00:00:00+00:00",
          "2025-09-23T00:00:00+00:00",
          "2025-09-24T00:00:00+00:00",
          "2025-09-25T00:00:00+00:00",
          "2025-09-26T00:00:00+00:00",
          "2025-09-29T00:00:00+00:00",
          "2025-09-30T00:00:00+00:00",
          "2025-10-01T00:00:00+00:00",
          "2025-10-02T00:00:00+00:00",
          "2025-10-03T00:00:00+00:00",
          "2025-10-06T00:00:00+00:00",
          "2025-10-07T00:00:00+00:00",
          "2025-10-08T00:00:00+00:00",
          "2025-10-09T00:00:00+00:00",
          "2025-10-10T00:00:00+00:00",
          "2025-10-13T00:00:00+00:00",
          "2025-10-14T00:00:00+00:00",
          "2025-10-15T00:00:00+00:00",
          "2025-10-16T00:00:00+00:00"
         ],
         "xaxis": "x3",
         "y": {
          "bdata": "wyYyS4aVoT/WzfJebfZjPzCHrbZAuqM/8d2a9e9Nnb8BxoFPmdOAv+O9dSN4oXA/9dTT1t0EZz8he7+i29GUP4OoAyBPS5o/sKKkW1PtbD/y//zI4veBP/FIyd/roXu/WCPshdjUhr8m6ndpHBtmv6KTolxvR5Y/tcFvROiQkj+wSAdxqaapv31LlwUJc5w/Xl/2MsEMp7/UNAGGFDZSv5DS2zkPbYY/",
          "dtype": "f8"
         },
         "yaxis": "y3"
        },
        {
         "mode": "lines",
         "name": "treasury_yield_10y",
         "type": "scatter",
         "x": [
          "2025-09-18T00:00:00+00:00",
          "2025-09-19T00:00:00+00:00",
          "2025-09-22T00:00:00+00:00",
          "2025-09-23T00:00:00+00:00",
          "2025-09-24T00:00:00+00:00",
          "2025-09-25T00:00:00+00:00",
          "2025-09-26T00:00:00+00:00",
          "2025-09-29T00:00:00+00:00",
          "2025-09-30T00:00:00+00:00",
          "2025-10-01T00:00:00+00:00",
          "2025-10-02T00:00:00+00:00",
          "2025-10-03T00:00:00+00:00",
          "2025-10-06T00:00:00+00:00",
          "2025-10-07T00:00:00+00:00",
          "2025-10-08T00:00:00+00:00",
          "2025-10-09T00:00:00+00:00",
          "2025-10-10T00:00:00+00:00",
          "2025-10-13T00:00:00+00:00",
          "2025-10-14T00:00:00+00:00",
          "2025-10-15T00:00:00+00:00",
          "2025-10-16T00:00:00+00:00"
         ],
         "xaxis": "x4",
         "y": {
          "bdata": "cT0K16NwEECPwvUoXI8QQJqZmZmZmRBAexSuR+F6EECkcD0K16MQQLgehetRuBBAzczMzMzMEECamZmZmZkQQKRwPQrXoxBAexSuR+F6EEBmZmZmZmYQQIXrUbgehRBAuB6F61G4EECPwvUoXI8QQIXrUbgehRBAj8L1KFyPEEAzMzMzMzMQQDMzMzMzMxBAH4XrUbgeEEAzMzMzMzMQQOxRuB6F6w9A",
          "dtype": "f8"
         },
         "yaxis": "y4"
        },
        {
         "mode": "lines",
         "name": "fed_funds_rate",
         "type": "scatter",
         "x": [
          "2025-09-18T00:00:00+00:00",
          "2025-09-19T00:00:00+00:00",
          "2025-09-22T00:00:00+00:00",
          "2025-09-23T00:00:00+00:00",
          "2025-09-24T00:00:00+00:00",
          "2025-09-25T00:00:00+00:00",
          "2025-09-26T00:00:00+00:00",
          "2025-09-29T00:00:00+00:00",
          "2025-09-30T00:00:00+00:00",
          "2025-10-01T00:00:00+00:00",
          "2025-10-02T00:00:00+00:00",
          "2025-10-03T00:00:00+00:00",
          "2025-10-06T00:00:00+00:00",
          "2025-10-07T00:00:00+00:00",
          "2025-10-08T00:00:00+00:00",
          "2025-10-09T00:00:00+00:00",
          "2025-10-10T00:00:00+00:00",
          "2025-10-13T00:00:00+00:00",
          "2025-10-14T00:00:00+00:00",
          "2025-10-15T00:00:00+00:00",
          "2025-10-16T00:00:00+00:00"
         ],
         "xaxis": "x5",
         "y": {
          "bdata": "UrgehetREEBSuB6F61EQQFyPwvUoXBBAXI/C9ShcEEBcj8L1KFwQQFyPwvUoXBBAXI/C9ShcEEBcj8L1KFwQQFyPwvUoXBBAXI/C9ShcEEBcj8L1KFwQQFyPwvUoXBBAXI/C9ShcEEBcj8L1KFwQQGZmZmZmZhBAZmZmZmZmEEBmZmZmZmYQQGZmZmZmZhBAZmZmZmZmEEBmZmZmZmYQQHE9CtejcBBA",
          "dtype": "f8"
         },
         "yaxis": "y5"
        },
        {
         "mode": "lines",
         "name": "inflation_expectation_10y",
         "type": "scatter",
         "x": [
          "2025-09-18T00:00:00+00:00",
          "2025-09-19T00:00:00+00:00",
          "2025-09-22T00:00:00+00:00",
          "2025-09-23T00:00:00+00:00",
          "2025-09-24T00:00:00+00:00",
          "2025-09-25T00:00:00+00:00",
          "2025-09-26T00:00:00+00:00",
          "2025-09-29T00:00:00+00:00",
          "2025-09-30T00:00:00+00:00",
          "2025-10-01T00:00:00+00:00",
          "2025-10-02T00:00:00+00:00",
          "2025-10-03T00:00:00+00:00",
          "2025-10-06T00:00:00+00:00",
          "2025-10-07T00:00:00+00:00",
          "2025-10-08T00:00:00+00:00",
          "2025-10-09T00:00:00+00:00",
          "2025-10-10T00:00:00+00:00",
          "2025-10-13T00:00:00+00:00",
          "2025-10-14T00:00:00+00:00",
          "2025-10-15T00:00:00+00:00",
          "2025-10-16T00:00:00+00:00"
         ],
         "xaxis": "x6",
         "y": {
          "bdata": "CtejcD0KA0AfhetRuB4DQPYoXI/C9QJA9ihcj8L1AkAK16NwPQoDQArXo3A9CgNACtejcD0KA0DNzMzMzMwCQOF6FK5H4QJAzczMzMzMAkC4HoXrUbgCQKRwPQrXowJAuB6F61G4AkDNzMzMzMwCQM3MzMzMzAJAuB6F61G4AkBmZmZmZmYCQGZmZmZmZgJAZmZmZmZmAkBSuB6F61ECQD0K16NwPQJA",
          "dtype": "f8"
         },
         "yaxis": "y6"
        },
        {
         "mode": "lines",
         "name": "dollar_index",
         "type": "scatter",
         "x": [
          "2025-09-18T00:00:00+00:00",
          "2025-09-19T00:00:00+00:00",
          "2025-09-22T00:00:00+00:00",
          "2025-09-23T00:00:00+00:00",
          "2025-09-24T00:00:00+00:00",
          "2025-09-25T00:00:00+00:00",
          "2025-09-26T00:00:00+00:00",
          "2025-09-29T00:00:00+00:00",
          "2025-09-30T00:00:00+00:00",
          "2025-10-01T00:00:00+00:00",
          "2025-10-02T00:00:00+00:00",
          "2025-10-03T00:00:00+00:00",
          "2025-10-06T00:00:00+00:00",
          "2025-10-07T00:00:00+00:00",
          "2025-10-08T00:00:00+00:00",
          "2025-10-09T00:00:00+00:00",
          "2025-10-10T00:00:00+00:00",
          "2025-10-13T00:00:00+00:00",
          "2025-10-14T00:00:00+00:00",
          "2025-10-15T00:00:00+00:00",
          "2025-10-16T00:00:00+00:00"
         ],
         "xaxis": "x7",
         "y": {
          "bdata": "rthfdk8GXkASFD/G3A1eQOviNhrAD15Aa5p3nKIDXkARx7q4jSZeQIts5/upPV5AQmDl0CI3XkDYgXNGlCJeQE7RkVz+I15ABaOSOgElXkC8dJMYBDZeQDC7Jw8LIV5APujZrPosXkD1SlmGODpeQECk374OTF5Asp3vp8ZfXkCvlGWIY2FeQK+UZYhjYV5Ar5RliGNhXkCvlGWIY2FeQK+UZYhjYV5A",
          "dtype": "f8"
         },
         "yaxis": "y7"
        },
        {
         "mode": "lines",
         "name": "oil_price_wti",
         "type": "scatter",
         "x": [
          "2025-09-18T00:00:00+00:00",
          "2025-09-19T00:00:00+00:00",
          "2025-09-22T00:00:00+00:00",
          "2025-09-23T00:00:00+00:00",
          "2025-09-24T00:00:00+00:00",
          "2025-09-25T00:00:00+00:00",
          "2025-09-26T00:00:00+00:00",
          "2025-09-29T00:00:00+00:00",
          "2025-09-30T00:00:00+00:00",
          "2025-10-01T00:00:00+00:00",
          "2025-10-02T00:00:00+00:00",
          "2025-10-03T00:00:00+00:00",
          "2025-10-06T00:00:00+00:00",
          "2025-10-07T00:00:00+00:00",
          "2025-10-08T00:00:00+00:00",
          "2025-10-09T00:00:00+00:00",
          "2025-10-10T00:00:00+00:00",
          "2025-10-13T00:00:00+00:00",
          "2025-10-14T00:00:00+00:00",
          "2025-10-15T00:00:00+00:00",
          "2025-10-16T00:00:00+00:00"
         ],
         "xaxis": "x8",
         "y": {
          "bdata": "FK5H4Xr0T0DD9Shcj4JPQB+F61G4fk9A4XoUrkfhT0CamZmZmVlQQHE9CtejYFBAAAAAAACgUEDhehSuRxFQQPYoXI/ClU9A7FG4HoVLT0CkcD0K16NOQDMzMzMz005AH4XrUbg+T0DD9Shcj0JPQI/C9Shcr09ArkfhehQuT0AAAAAAAOBNQAAAAAAA4E1Aw/UoXI/CTUDD9Shcj8JNQMP1KFyPwk1A",
          "dtype": "f8"
         },
         "yaxis": "y8"
        },
        {
         "mode": "lines",
         "name": "sp500_index",
         "type": "scatter",
         "x": [
          "2025-09-18T00:00:00+00:00",
          "2025-09-19T00:00:00+00:00",
          "2025-09-22T00:00:00+00:00",
          "2025-09-23T00:00:00+00:00",
          "2025-09-24T00:00:00+00:00",
          "2025-09-25T00:00:00+00:00",
          "2025-09-26T00:00:00+00:00",
          "2025-09-29T00:00:00+00:00",
          "2025-09-30T00:00:00+00:00",
          "2025-10-01T00:00:00+00:00",
          "2025-10-02T00:00:00+00:00",
          "2025-10-03T00:00:00+00:00",
          "2025-10-06T00:00:00+00:00",
          "2025-10-07T00:00:00+00:00",
          "2025-10-08T00:00:00+00:00",
          "2025-10-09T00:00:00+00:00",
          "2025-10-10T00:00:00+00:00",
          "2025-10-13T00:00:00+00:00",
          "2025-10-14T00:00:00+00:00",
          "2025-10-15T00:00:00+00:00",
          "2025-10-16T00:00:00+00:00"
         ],
         "xaxis": "x9",
         "y": {
          "bdata": "KVyPwvXnuUCPwvUoXAi6QAAAAADAJbpAUrgehesAukAfhetR+O25QB+F61G4zLlAMzMzM7PzuUApXI/CNQW6QClcj8J1ILpAMzMzMzM3ukCamZmZWTu6QNejcD3KO7pA4XoUrkdUukCkcD0Klzq6QB+F61G4YbpAj8L1KBxPukD2KFyPgpi5QB+F61G4/rlAw/UoXE/0uUDD9ShcDw+6QLgehesR5blA",
          "dtype": "f8"
         },
         "yaxis": "y9"
        },
        {
         "mode": "lines",
         "name": "vix_volatility",
         "type": "scatter",
         "x": [
          "2025-09-18T00:00:00+00:00",
          "2025-09-19T00:00:00+00:00",
          "2025-09-22T00:00:00+00:00",
          "2025-09-23T00:00:00+00:00",
          "2025-09-24T00:00:00+00:00",
          "2025-09-25T00:00:00+00:00",
          "2025-09-26T00:00:00+00:00",
          "2025-09-29T00:00:00+00:00",
          "2025-09-30T00:00:00+00:00",
          "2025-10-01T00:00:00+00:00",
          "2025-10-02T00:00:00+00:00",
          "2025-10-03T00:00:00+00:00",
          "2025-10-06T00:00:00+00:00",
          "2025-10-07T00:00:00+00:00",
          "2025-10-08T00:00:00+00:00",
          "2025-10-09T00:00:00+00:00",
          "2025-10-10T00:00:00+00:00",
          "2025-10-13T00:00:00+00:00",
          "2025-10-14T00:00:00+00:00",
          "2025-10-15T00:00:00+00:00",
          "2025-10-16T00:00:00+00:00"
         ],
         "xaxis": "x10",
         "y": {
          "bdata": "ZmZmZmZmL0BmZmZmZuYuQJqZmZmZGTBApHA9CtejMECuR+F6FC4wQD0K16NwvTBAFK5H4XqULkAfhetRuB4wQEjhehSuRzBACtejcD1KMEDhehSuR6EwQGZmZmZmpjBAH4XrUbheMEA9CtejcD0xQM3MzMzMTDBArkfhehRuMEApXI/C9ag1QEjhehSuBzNAj8L1KFzPNECkcD0K16M0QI/C9ShcTzlA",
          "dtype": "f8"
         },
         "yaxis": "y10"
        },
        {
         "mode": "lines",
         "name": "yield_spread_10y_2y",
         "type": "scatter",
         "x": [
          "2025-09-18T00:00:00+00:00",
          "2025-09-19T00:00:00+00:00",
          "2025-09-22T00:00:00+00:00",
          "2025-09-23T00:00:00+00:00",
          "2025-09-24T00:00:00+00:00",
          "2025-09-25T00:00:00+00:00",
          "2025-09-26T00:00:00+00:00",
          "2025-09-29T00:00:00+00:00",
          "2025-09-30T00:00:00+00:00",
          "2025-10-01T00:00:00+00:00",
          "2025-10-02T00:00:00+00:00",
          "2025-10-03T00:00:00+00:00",
          "2025-10-06T00:00:00+00:00",
          "2025-10-07T00:00:00+00:00",
          "2025-10-08T00:00:00+00:00",
          "2025-10-09T00:00:00+00:00",
          "2025-10-10T00:00:00+00:00",
          "2025-10-13T00:00:00+00:00",
          "2025-10-14T00:00:00+00:00",
          "2025-10-15T00:00:00+00:00",
          "2025-10-16T00:00:00+00:00"
         ],
         "xaxis": "x11",
         "y": {
          "bdata": "SOF6FK5H4T89CtejcD3iP0jhehSuR+E/4XoUrkfh4j/hehSuR+HiP0jhehSuR+E/PQrXo3A94j+kcD0K16PgP+xRuB6F6+E/PQrXo3A94j+amZmZmZnhP5qZmZmZmeE/j8L1KFyP4j89CtejcD3iP5qZmZmZmeE/SOF6FK5H4T/2KFyPwvXgP/YoXI/C9eA/mpmZmZmZ4T+amZmZmZnhP4/C9Shcj+I/",
          "dtype": "f8"
         },
         "yaxis": "y11"
        },
        {
         "mode": "lines",
         "name": "high_yield_spread",
         "type": "scatter",
         "x": [
          "2025-09-18T00:00:00+00:00",
          "2025-09-19T00:00:00+00:00",
          "2025-09-22T00:00:00+00:00",
          "2025-09-23T00:00:00+00:00",
          "2025-09-24T00:00:00+00:00",
          "2025-09-25T00:00:00+00:00",
          "2025-09-26T00:00:00+00:00",
          "2025-09-29T00:00:00+00:00",
          "2025-09-30T00:00:00+00:00",
          "2025-10-01T00:00:00+00:00",
          "2025-10-02T00:00:00+00:00",
          "2025-10-03T00:00:00+00:00",
          "2025-10-06T00:00:00+00:00",
          "2025-10-07T00:00:00+00:00",
          "2025-10-08T00:00:00+00:00",
          "2025-10-09T00:00:00+00:00",
          "2025-10-10T00:00:00+00:00",
          "2025-10-13T00:00:00+00:00",
          "2025-10-14T00:00:00+00:00",
          "2025-10-15T00:00:00+00:00",
          "2025-10-16T00:00:00+00:00"
         ],
         "xaxis": "x12",
         "y": {
          "bdata": "rkfhehSuBUDD9Shcj8IFQIXrUbgehQVArkfhehSuBUCamZmZmZkFQBSuR+F6FAZAAAAAAAAABkDsUbgehesFQGZmZmZmZgZAexSuR+F6BkB7FK5H4XoGQGZmZmZmZgZAFK5H4XoUBkCPwvUoXI8GQLgehetRuAZAmpmZmZmZB0BxPQrXo3AJQHE9CtejcAlA4XoUrkfhCECamZmZmZkHQFK4HoXrUQhA",
          "dtype": "f8"
         },
         "yaxis": "y12"
        }
       ],
       "layout": {
        "annotations": [
         {
          "font": {
           "size": 16
          },
          "showarrow": false,
          "text": "Precio de NVDA (Close, High, Low, Open)",
          "x": 0.5,
          "xanchor": "center",
          "xref": "paper",
          "y": 0.9999999999999998,
          "yanchor": "bottom",
          "yref": "paper"
         },
         {
          "font": {
           "size": 16
          },
          "showarrow": false,
          "text": "Volume",
          "x": 0.5,
          "xanchor": "center",
          "xref": "paper",
          "y": 0.9149999999999998,
          "yanchor": "bottom",
          "yref": "paper"
         },
         {
          "font": {
           "size": 16
          },
          "showarrow": false,
          "text": "log_return",
          "x": 0.5,
          "xanchor": "center",
          "xref": "paper",
          "y": 0.8299999999999998,
          "yanchor": "bottom",
          "yref": "paper"
         },
         {
          "font": {
           "size": 16
          },
          "showarrow": false,
          "text": "treasury_yield_10y",
          "x": 0.5,
          "xanchor": "center",
          "xref": "paper",
          "y": 0.7450000000000001,
          "yanchor": "bottom",
          "yref": "paper"
         },
         {
          "font": {
           "size": 16
          },
          "showarrow": false,
          "text": "fed_funds_rate",
          "x": 0.5,
          "xanchor": "center",
          "xref": "paper",
          "y": 0.6599999999999999,
          "yanchor": "bottom",
          "yref": "paper"
         },
         {
          "font": {
           "size": 16
          },
          "showarrow": false,
          "text": "inflation_expectation_10y",
          "x": 0.5,
          "xanchor": "center",
          "xref": "paper",
          "y": 0.575,
          "yanchor": "bottom",
          "yref": "paper"
         },
         {
          "font": {
           "size": 16
          },
          "showarrow": false,
          "text": "dollar_index",
          "x": 0.5,
          "xanchor": "center",
          "xref": "paper",
          "y": 0.49000000000000005,
          "yanchor": "bottom",
          "yref": "paper"
         },
         {
          "font": {
           "size": 16
          },
          "showarrow": false,
          "text": "oil_price_wti",
          "x": 0.5,
          "xanchor": "center",
          "xref": "paper",
          "y": 0.405,
          "yanchor": "bottom",
          "yref": "paper"
         },
         {
          "font": {
           "size": 16
          },
          "showarrow": false,
          "text": "sp500_index",
          "x": 0.5,
          "xanchor": "center",
          "xref": "paper",
          "y": 0.32,
          "yanchor": "bottom",
          "yref": "paper"
         },
         {
          "font": {
           "size": 16
          },
          "showarrow": false,
          "text": "vix_volatility",
          "x": 0.5,
          "xanchor": "center",
          "xref": "paper",
          "y": 0.23500000000000001,
          "yanchor": "bottom",
          "yref": "paper"
         },
         {
          "font": {
           "size": 16
          },
          "showarrow": false,
          "text": "yield_spread_10y_2y",
          "x": 0.5,
          "xanchor": "center",
          "xref": "paper",
          "y": 0.15000000000000002,
          "yanchor": "bottom",
          "yref": "paper"
         },
         {
          "font": {
           "size": 16
          },
          "showarrow": false,
          "text": "high_yield_spread",
          "x": 0.5,
          "xanchor": "center",
          "xref": "paper",
          "y": 0.065,
          "yanchor": "bottom",
          "yref": "paper"
         }
        ],
        "height": 3600,
        "hovermode": "x unified",
        "template": {
         "data": {
          "bar": [
           {
            "error_x": {
             "color": "#2a3f5f"
            },
            "error_y": {
             "color": "#2a3f5f"
            },
            "marker": {
             "line": {
              "color": "white",
              "width": 0.5
             },
             "pattern": {
              "fillmode": "overlay",
              "size": 10,
              "solidity": 0.2
             }
            },
            "type": "bar"
           }
          ],
          "barpolar": [
           {
            "marker": {
             "line": {
              "color": "white",
              "width": 0.5
             },
             "pattern": {
              "fillmode": "overlay",
              "size": 10,
              "solidity": 0.2
             }
            },
            "type": "barpolar"
           }
          ],
          "carpet": [
           {
            "aaxis": {
             "endlinecolor": "#2a3f5f",
             "gridcolor": "#C8D4E3",
             "linecolor": "#C8D4E3",
             "minorgridcolor": "#C8D4E3",
             "startlinecolor": "#2a3f5f"
            },
            "baxis": {
             "endlinecolor": "#2a3f5f",
             "gridcolor": "#C8D4E3",
             "linecolor": "#C8D4E3",
             "minorgridcolor": "#C8D4E3",
             "startlinecolor": "#2a3f5f"
            },
            "type": "carpet"
           }
          ],
          "choropleth": [
           {
            "colorbar": {
             "outlinewidth": 0,
             "ticks": ""
            },
            "type": "choropleth"
           }
          ],
          "contour": [
           {
            "colorbar": {
             "outlinewidth": 0,
             "ticks": ""
            },
            "colorscale": [
             [
              0,
              "#0d0887"
             ],
             [
              0.1111111111111111,
              "#46039f"
             ],
             [
              0.2222222222222222,
              "#7201a8"
             ],
             [
              0.3333333333333333,
              "#9c179e"
             ],
             [
              0.4444444444444444,
              "#bd3786"
             ],
             [
              0.5555555555555556,
              "#d8576b"
             ],
             [
              0.6666666666666666,
              "#ed7953"
             ],
             [
              0.7777777777777778,
              "#fb9f3a"
             ],
             [
              0.8888888888888888,
              "#fdca26"
             ],
             [
              1,
              "#f0f921"
             ]
            ],
            "type": "contour"
           }
          ],
          "contourcarpet": [
           {
            "colorbar": {
             "outlinewidth": 0,
             "ticks": ""
            },
            "type": "contourcarpet"
           }
          ],
          "heatmap": [
           {
            "colorbar": {
             "outlinewidth": 0,
             "ticks": ""
            },
            "colorscale": [
             [
              0,
              "#0d0887"
             ],
             [
              0.1111111111111111,
              "#46039f"
             ],
             [
              0.2222222222222222,
              "#7201a8"
             ],
             [
              0.3333333333333333,
              "#9c179e"
             ],
             [
              0.4444444444444444,
              "#bd3786"
             ],
             [
              0.5555555555555556,
              "#d8576b"
             ],
             [
              0.6666666666666666,
              "#ed7953"
             ],
             [
              0.7777777777777778,
              "#fb9f3a"
             ],
             [
              0.8888888888888888,
              "#fdca26"
             ],
             [
              1,
              "#f0f921"
             ]
            ],
            "type": "heatmap"
           }
          ],
          "histogram": [
           {
            "marker": {
             "pattern": {
              "fillmode": "overlay",
              "size": 10,
              "solidity": 0.2
             }
            },
            "type": "histogram"
           }
          ],
          "histogram2d": [
           {
            "colorbar": {
             "outlinewidth": 0,
             "ticks": ""
            },
            "colorscale": [
             [
              0,
              "#0d0887"
             ],
             [
              0.1111111111111111,
              "#46039f"
             ],
             [
              0.2222222222222222,
              "#7201a8"
             ],
             [
              0.3333333333333333,
              "#9c179e"
             ],
             [
              0.4444444444444444,
              "#bd3786"
             ],
             [
              0.5555555555555556,
              "#d8576b"
             ],
             [
              0.6666666666666666,
              "#ed7953"
             ],
             [
              0.7777777777777778,
              "#fb9f3a"
             ],
             [
              0.8888888888888888,
              "#fdca26"
             ],
             [
              1,
              "#f0f921"
             ]
            ],
            "type": "histogram2d"
           }
          ],
          "histogram2dcontour": [
           {
            "colorbar": {
             "outlinewidth": 0,
             "ticks": ""
            },
            "colorscale": [
             [
              0,
              "#0d0887"
             ],
             [
              0.1111111111111111,
              "#46039f"
             ],
             [
              0.2222222222222222,
              "#7201a8"
             ],
             [
              0.3333333333333333,
              "#9c179e"
             ],
             [
              0.4444444444444444,
              "#bd3786"
             ],
             [
              0.5555555555555556,
              "#d8576b"
             ],
             [
              0.6666666666666666,
              "#ed7953"
             ],
             [
              0.7777777777777778,
              "#fb9f3a"
             ],
             [
              0.8888888888888888,
              "#fdca26"
             ],
             [
              1,
              "#f0f921"
             ]
            ],
            "type": "histogram2dcontour"
           }
          ],
          "mesh3d": [
           {
            "colorbar": {
             "outlinewidth": 0,
             "ticks": ""
            },
            "type": "mesh3d"
           }
          ],
          "parcoords": [
           {
            "line": {
             "colorbar": {
              "outlinewidth": 0,
              "ticks": ""
             }
            },
            "type": "parcoords"
           }
          ],
          "pie": [
           {
            "automargin": true,
            "type": "pie"
           }
          ],
          "scatter": [
           {
            "fillpattern": {
             "fillmode": "overlay",
             "size": 10,
             "solidity": 0.2
            },
            "type": "scatter"
           }
          ],
          "scatter3d": [
           {
            "line": {
             "colorbar": {
              "outlinewidth": 0,
              "ticks": ""
             }
            },
            "marker": {
             "colorbar": {
              "outlinewidth": 0,
              "ticks": ""
             }
            },
            "type": "scatter3d"
           }
          ],
          "scattercarpet": [
           {
            "marker": {
             "colorbar": {
              "outlinewidth": 0,
              "ticks": ""
             }
            },
            "type": "scattercarpet"
           }
          ],
          "scattergeo": [
           {
            "marker": {
             "colorbar": {
              "outlinewidth": 0,
              "ticks": ""
             }
            },
            "type": "scattergeo"
           }
          ],
          "scattergl": [
           {
            "marker": {
             "colorbar": {
              "outlinewidth": 0,
              "ticks": ""
             }
            },
            "type": "scattergl"
           }
          ],
          "scattermap": [
           {
            "marker": {
             "colorbar": {
              "outlinewidth": 0,
              "ticks": ""
             }
            },
            "type": "scattermap"
           }
          ],
          "scattermapbox": [
           {
            "marker": {
             "colorbar": {
              "outlinewidth": 0,
              "ticks": ""
             }
            },
            "type": "scattermapbox"
           }
          ],
          "scatterpolar": [
           {
            "marker": {
             "colorbar": {
              "outlinewidth": 0,
              "ticks": ""
             }
            },
            "type": "scatterpolar"
           }
          ],
          "scatterpolargl": [
           {
            "marker": {
             "colorbar": {
              "outlinewidth": 0,
              "ticks": ""
             }
            },
            "type": "scatterpolargl"
           }
          ],
          "scatterternary": [
           {
            "marker": {
             "colorbar": {
              "outlinewidth": 0,
              "ticks": ""
             }
            },
            "type": "scatterternary"
           }
          ],
          "surface": [
           {
            "colorbar": {
             "outlinewidth": 0,
             "ticks": ""
            },
            "colorscale": [
             [
              0,
              "#0d0887"
             ],
             [
              0.1111111111111111,
              "#46039f"
             ],
             [
              0.2222222222222222,
              "#7201a8"
             ],
             [
              0.3333333333333333,
              "#9c179e"
             ],
             [
              0.4444444444444444,
              "#bd3786"
             ],
             [
              0.5555555555555556,
              "#d8576b"
             ],
             [
              0.6666666666666666,
              "#ed7953"
             ],
             [
              0.7777777777777778,
              "#fb9f3a"
             ],
             [
              0.8888888888888888,
              "#fdca26"
             ],
             [
              1,
              "#f0f921"
             ]
            ],
            "type": "surface"
           }
          ],
          "table": [
           {
            "cells": {
             "fill": {
              "color": "#EBF0F8"
             },
             "line": {
              "color": "white"
             }
            },
            "header": {
             "fill": {
              "color": "#C8D4E3"
             },
             "line": {
              "color": "white"
             }
            },
            "type": "table"
           }
          ]
         },
         "layout": {
          "annotationdefaults": {
           "arrowcolor": "#2a3f5f",
           "arrowhead": 0,
           "arrowwidth": 1
          },
          "autotypenumbers": "strict",
          "coloraxis": {
           "colorbar": {
            "outlinewidth": 0,
            "ticks": ""
           }
          },
          "colorscale": {
           "diverging": [
            [
             0,
             "#8e0152"
            ],
            [
             0.1,
             "#c51b7d"
            ],
            [
             0.2,
             "#de77ae"
            ],
            [
             0.3,
             "#f1b6da"
            ],
            [
             0.4,
             "#fde0ef"
            ],
            [
             0.5,
             "#f7f7f7"
            ],
            [
             0.6,
             "#e6f5d0"
            ],
            [
             0.7,
             "#b8e186"
            ],
            [
             0.8,
             "#7fbc41"
            ],
            [
             0.9,
             "#4d9221"
            ],
            [
             1,
             "#276419"
            ]
           ],
           "sequential": [
            [
             0,
             "#0d0887"
            ],
            [
             0.1111111111111111,
             "#46039f"
            ],
            [
             0.2222222222222222,
             "#7201a8"
            ],
            [
             0.3333333333333333,
             "#9c179e"
            ],
            [
             0.4444444444444444,
             "#bd3786"
            ],
            [
             0.5555555555555556,
             "#d8576b"
            ],
            [
             0.6666666666666666,
             "#ed7953"
            ],
            [
             0.7777777777777778,
             "#fb9f3a"
            ],
            [
             0.8888888888888888,
             "#fdca26"
            ],
            [
             1,
             "#f0f921"
            ]
           ],
           "sequentialminus": [
            [
             0,
             "#0d0887"
            ],
            [
             0.1111111111111111,
             "#46039f"
            ],
            [
             0.2222222222222222,
             "#7201a8"
            ],
            [
             0.3333333333333333,
             "#9c179e"
            ],
            [
             0.4444444444444444,
             "#bd3786"
            ],
            [
             0.5555555555555556,
             "#d8576b"
            ],
            [
             0.6666666666666666,
             "#ed7953"
            ],
            [
             0.7777777777777778,
             "#fb9f3a"
            ],
            [
             0.8888888888888888,
             "#fdca26"
            ],
            [
             1,
             "#f0f921"
            ]
           ]
          },
          "colorway": [
           "#636efa",
           "#EF553B",
           "#00cc96",
           "#ab63fa",
           "#FFA15A",
           "#19d3f3",
           "#FF6692",
           "#B6E880",
           "#FF97FF",
           "#FECB52"
          ],
          "font": {
           "color": "#2a3f5f"
          },
          "geo": {
           "bgcolor": "white",
           "lakecolor": "white",
           "landcolor": "white",
           "showlakes": true,
           "showland": true,
           "subunitcolor": "#C8D4E3"
          },
          "hoverlabel": {
           "align": "left"
          },
          "hovermode": "closest",
          "mapbox": {
           "style": "light"
          },
          "paper_bgcolor": "white",
          "plot_bgcolor": "white",
          "polar": {
           "angularaxis": {
            "gridcolor": "#EBF0F8",
            "linecolor": "#EBF0F8",
            "ticks": ""
           },
           "bgcolor": "white",
           "radialaxis": {
            "gridcolor": "#EBF0F8",
            "linecolor": "#EBF0F8",
            "ticks": ""
           }
          },
          "scene": {
           "xaxis": {
            "backgroundcolor": "white",
            "gridcolor": "#DFE8F3",
            "gridwidth": 2,
            "linecolor": "#EBF0F8",
            "showbackground": true,
            "ticks": "",
            "zerolinecolor": "#EBF0F8"
           },
           "yaxis": {
            "backgroundcolor": "white",
            "gridcolor": "#DFE8F3",
            "gridwidth": 2,
            "linecolor": "#EBF0F8",
            "showbackground": true,
            "ticks": "",
            "zerolinecolor": "#EBF0F8"
           },
           "zaxis": {
            "backgroundcolor": "white",
            "gridcolor": "#DFE8F3",
            "gridwidth": 2,
            "linecolor": "#EBF0F8",
            "showbackground": true,
            "ticks": "",
            "zerolinecolor": "#EBF0F8"
           }
          },
          "shapedefaults": {
           "line": {
            "color": "#2a3f5f"
           }
          },
          "ternary": {
           "aaxis": {
            "gridcolor": "#DFE8F3",
            "linecolor": "#A2B1C6",
            "ticks": ""
           },
           "baxis": {
            "gridcolor": "#DFE8F3",
            "linecolor": "#A2B1C6",
            "ticks": ""
           },
           "bgcolor": "white",
           "caxis": {
            "gridcolor": "#DFE8F3",
            "linecolor": "#A2B1C6",
            "ticks": ""
           }
          },
          "title": {
           "x": 0.05
          },
          "xaxis": {
           "automargin": true,
           "gridcolor": "#EBF0F8",
           "linecolor": "#EBF0F8",
           "ticks": "",
           "title": {
            "standoff": 15
           },
           "zerolinecolor": "#EBF0F8",
           "zerolinewidth": 2
          },
          "yaxis": {
           "automargin": true,
           "gridcolor": "#EBF0F8",
           "linecolor": "#EBF0F8",
           "ticks": "",
           "title": {
            "standoff": 15
           },
           "zerolinecolor": "#EBF0F8",
           "zerolinewidth": 2
          }
         }
        },
        "title": {
         "text": "Series temporales: precios combinados y variables exógenas"
        },
        "xaxis": {
         "anchor": "y",
         "domain": [
          0,
          1
         ],
         "matches": "x12",
         "showticklabels": false
        },
        "xaxis10": {
         "anchor": "y10",
         "domain": [
          0,
          1
         ],
         "matches": "x12",
         "showticklabels": false
        },
        "xaxis11": {
         "anchor": "y11",
         "domain": [
          0,
          1
         ],
         "matches": "x12",
         "showticklabels": false
        },
        "xaxis12": {
         "anchor": "y12",
         "domain": [
          0,
          1
         ],
         "title": {
          "text": "Fecha"
         }
        },
        "xaxis2": {
         "anchor": "y2",
         "domain": [
          0,
          1
         ],
         "matches": "x12",
         "showticklabels": false
        },
        "xaxis3": {
         "anchor": "y3",
         "domain": [
          0,
          1
         ],
         "matches": "x12",
         "showticklabels": false
        },
        "xaxis4": {
         "anchor": "y4",
         "domain": [
          0,
          1
         ],
         "matches": "x12",
         "showticklabels": false
        },
        "xaxis5": {
         "anchor": "y5",
         "domain": [
          0,
          1
         ],
         "matches": "x12",
         "showticklabels": false
        },
        "xaxis6": {
         "anchor": "y6",
         "domain": [
          0,
          1
         ],
         "matches": "x12",
         "showticklabels": false
        },
        "xaxis7": {
         "anchor": "y7",
         "domain": [
          0,
          1
         ],
         "matches": "x12",
         "showticklabels": false
        },
        "xaxis8": {
         "anchor": "y8",
         "domain": [
          0,
          1
         ],
         "matches": "x12",
         "showticklabels": false
        },
        "xaxis9": {
         "anchor": "y9",
         "domain": [
          0,
          1
         ],
         "matches": "x12",
         "showticklabels": false
        },
        "yaxis": {
         "anchor": "x",
         "domain": [
          0.9349999999999998,
          0.9999999999999998
         ],
         "title": {
          "text": "USD"
         }
        },
        "yaxis10": {
         "anchor": "x10",
         "domain": [
          0.17,
          0.23500000000000001
         ]
        },
        "yaxis11": {
         "anchor": "x11",
         "domain": [
          0.085,
          0.15000000000000002
         ]
        },
        "yaxis12": {
         "anchor": "x12",
         "domain": [
          0,
          0.065
         ]
        },
        "yaxis2": {
         "anchor": "x2",
         "domain": [
          0.8499999999999999,
          0.9149999999999998
         ]
        },
        "yaxis3": {
         "anchor": "x3",
         "domain": [
          0.7649999999999999,
          0.8299999999999998
         ]
        },
        "yaxis4": {
         "anchor": "x4",
         "domain": [
          0.68,
          0.7450000000000001
         ]
        },
        "yaxis5": {
         "anchor": "x5",
         "domain": [
          0.595,
          0.6599999999999999
         ]
        },
        "yaxis6": {
         "anchor": "x6",
         "domain": [
          0.51,
          0.575
         ]
        },
        "yaxis7": {
         "anchor": "x7",
         "domain": [
          0.42500000000000004,
          0.49000000000000005
         ]
        },
        "yaxis8": {
         "anchor": "x8",
         "domain": [
          0.34,
          0.405
         ]
        },
        "yaxis9": {
         "anchor": "x9",
         "domain": [
          0.255,
          0.32
         ]
        }
       }
      }
     },
     "metadata": {},
     "output_type": "display_data"
    }
   ],
   "source": [
    "import plotly.graph_objects as go\n",
    "from plotly.subplots import make_subplots\n",
    "\n",
    "# --- columnas base del precio ---\n",
    "price_cols = [\"Close\", \"High\", \"Low\", \"Open\"]\n",
    "\n",
    "# --- otras columnas (exógenas, volumen, etc.) ---\n",
    "other_cols = [c for c in df.select_dtypes(include=\"number\").columns if c not in price_cols]\n",
    "\n",
    "# --- crear figura con subplots (1 para precios + 1 por cada columna extra) ---\n",
    "fig = make_subplots(\n",
    "    rows=1 + len(other_cols),\n",
    "    cols=1,\n",
    "    shared_xaxes=True,\n",
    "    vertical_spacing=0.02,\n",
    "    subplot_titles=[\"Precio de NVDA (Close, High, Low, Open)\"] + other_cols\n",
    ")\n",
    "\n",
    "# --- Subplot 1: todas las columnas de precio en un solo gráfico ---\n",
    "for col in price_cols:\n",
    "    if col in df.columns:\n",
    "        fig.add_trace(\n",
    "            go.Scatter(x=df.index, y=df[col], mode=\"lines\", name=col),\n",
    "            row=1, col=1\n",
    "        )\n",
    "\n",
    "# --- Subplots individuales para las demás columnas ---\n",
    "for i, col in enumerate(other_cols, start=2):\n",
    "    fig.add_trace(\n",
    "        go.Scatter(x=df.index, y=df[col], mode=\"lines\", name=col),\n",
    "        row=i, col=1\n",
    "    )\n",
    "\n",
    "# --- Ajustes de diseño ---\n",
    "fig.update_layout(\n",
    "    height=300 * (1 + len(other_cols)),\n",
    "    title_text=\"Series temporales: precios combinados y variables exógenas\",\n",
    "    template=\"plotly_white\",\n",
    "    hovermode=\"x unified\",\n",
    ")\n",
    "\n",
    "fig.update_xaxes(title_text=\"Fecha\", row=len(other_cols)+1, col=1)\n",
    "fig.update_yaxes(title_text=\"USD\", row=1, col=1)\n",
    "\n",
    "fig.show()\n"
   ]
  },
  {
   "cell_type": "code",
   "execution_count": 7,
   "id": "fa7079c2",
   "metadata": {},
   "outputs": [
    {
     "name": "stdout",
     "output_type": "stream",
     "text": [
      "Valores nulos totales por columna:\n",
      "\n",
      "Close                        0\n",
      "High                         0\n",
      "Low                          0\n",
      "Open                         0\n",
      "Volume                       0\n",
      "log_return                   0\n",
      "treasury_yield_10y           0\n",
      "fed_funds_rate               0\n",
      "inflation_expectation_10y    0\n",
      "dollar_index                 0\n",
      "oil_price_wti                0\n",
      "sp500_index                  0\n",
      "vix_volatility               0\n",
      "yield_spread_10y_2y          0\n",
      "high_yield_spread            0\n",
      "dtype: int64\n"
     ]
    },
    {
     "data": {
      "text/plain": [
       "<Figure size 1000x600 with 0 Axes>"
      ]
     },
     "metadata": {},
     "output_type": "display_data"
    },
    {
     "data": {
      "image/png": "[encoded data removed]",
      "text/plain": [
       "<Figure size 2500x1000 with 2 Axes>"
      ]
     },
     "metadata": {},
     "output_type": "display_data"
    },
    {
     "data": {
      "image/png": "[encoded data removed]",
      "text/plain": [
       "<Figure size 2500x1000 with 3 Axes>"
      ]
     },
     "metadata": {},
     "output_type": "display_data"
    }
   ],
   "source": [
    "import missingno as msno\n",
    "import matplotlib.pyplot as plt\n",
    "\n",
    "# --- 1. Resumen general ---\n",
    "print(\"Valores nulos totales por columna:\\n\")\n",
    "print(df.isnull().sum().sort_values(ascending=False))\n",
    "\n",
    "# --- Matriz de nulos (visualiza el patrón de ausencias en el tiempo) ---\n",
    "plt.figure(figsize=(10, 6))\n",
    "msno.matrix(df)\n",
    "plt.title(\"Distribución de valores nulos a lo largo del índice temporal\")\n",
    "plt.show()\n",
    "\n",
    "# --- Diagrama de barras (cantidad de nulos por columna) ---\n",
    "plt.figure(figsize=(10, 6))\n",
    "msno.bar(df)\n",
    "plt.title(\"Cantidad de valores nulos por columna\")\n",
    "plt.show()\n"
   ]
  },
  {
   "cell_type": "code",
   "execution_count": 8,
   "id": "15d9a5d9",
   "metadata": {},
   "outputs": [
    {
     "name": "stdout",
     "output_type": "stream",
     "text": [
      "Rango: 2025-09-18 00:00:00+00:00 → 2025-10-16 00:00:00+00:00\n",
      "Filas: 21 | Fechas únicas: 21\n",
      "Monotónico: True\n",
      "Frecuencia inferida: B\n"
     ]
    }
   ],
   "source": [
    "# Asegura índice datetime, único y ordenado\n",
    "df = df.copy()\n",
    "df.index = pd.to_datetime(df.index)\n",
    "df = df[~df.index.duplicated()].sort_index()\n",
    "\n",
    "print(\"Rango:\", df.index.min(), \"→\", df.index.max())\n",
    "print(\"Filas:\", len(df), \"| Fechas únicas:\", df.index.nunique())\n",
    "print(\"Monotónico:\", df.index.is_monotonic_increasing)\n",
    "print(\"Frecuencia inferida:\", pd.infer_freq(df.index))\n"
   ]
  },
  {
   "cell_type": "code",
   "execution_count": 9,
   "id": "b42222cc",
   "metadata": {},
   "outputs": [
    {
     "name": "stdout",
     "output_type": "stream",
     "text": [
      "Días de calendario faltantes: 8\n",
      "DatetimeIndex(['2025-09-20 00:00:00+00:00', '2025-09-21 00:00:00+00:00',\n",
      "               '2025-09-27 00:00:00+00:00', '2025-09-28 00:00:00+00:00',\n",
      "               '2025-10-04 00:00:00+00:00', '2025-10-05 00:00:00+00:00',\n",
      "               '2025-10-11 00:00:00+00:00', '2025-10-12 00:00:00+00:00'],\n",
      "              dtype='datetime64[ns, UTC]', freq=None)\n"
     ]
    }
   ],
   "source": [
    "all_days = pd.date_range(df.index.min(), df.index.max(), freq=\"D\")\n",
    "missing_calendar_days = all_days.difference(df.index)\n",
    "\n",
    "print(\"Días de calendario faltantes:\", len(missing_calendar_days))\n",
    "print(missing_calendar_days[:10])  # muestra algunos\n"
   ]
  },
  {
   "cell_type": "code",
   "execution_count": null,
   "id": "bda27207",
   "metadata": {},
   "outputs": [],
   "source": []
  }
 ],
 "metadata": {
  "kernelspec": {
   "display_name": ".venv",
   "language": "python",
   "name": "python3"
  },
  "language_info": {
   "codemirror_mode": {
    "name": "ipython",
    "version": 3
   },
   "file_extension": ".py",
   "mimetype": "text/x-python",
   "name": "python",
   "nbconvert_exporter": "python",
   "pygments_lexer": "ipython3",
   "version": "3.11.14"
  }
 },
 "nbformat": 4,
 "nbformat_minor": 5
}
